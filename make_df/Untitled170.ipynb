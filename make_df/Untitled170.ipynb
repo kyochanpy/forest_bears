{
  "nbformat": 4,
  "nbformat_minor": 0,
  "metadata": {
    "colab": {
      "name": "Untitled170.ipynb",
      "provenance": []
    },
    "kernelspec": {
      "name": "python3",
      "display_name": "Python 3"
    },
    "language_info": {
      "name": "python"
    }
  },
  "cells": [
    {
      "cell_type": "code",
      "metadata": {
        "colab": {
          "base_uri": "https://localhost:8080/"
        },
        "id": "YrYCyq-mIgnA",
        "outputId": "8fbf85ad-a014-4327-a75e-88fd24215d8d"
      },
      "source": [
        "!pip install googlemaps"
      ],
      "execution_count": null,
      "outputs": [
        {
          "output_type": "stream",
          "name": "stdout",
          "text": [
            "Requirement already satisfied: googlemaps in /usr/local/lib/python3.7/dist-packages (4.5.3)\n",
            "Requirement already satisfied: requests<3.0,>=2.20.0 in /usr/local/lib/python3.7/dist-packages (from googlemaps) (2.23.0)\n",
            "Requirement already satisfied: urllib3!=1.25.0,!=1.25.1,<1.26,>=1.21.1 in /usr/local/lib/python3.7/dist-packages (from requests<3.0,>=2.20.0->googlemaps) (1.24.3)\n",
            "Requirement already satisfied: idna<3,>=2.5 in /usr/local/lib/python3.7/dist-packages (from requests<3.0,>=2.20.0->googlemaps) (2.10)\n",
            "Requirement already satisfied: chardet<4,>=3.0.2 in /usr/local/lib/python3.7/dist-packages (from requests<3.0,>=2.20.0->googlemaps) (3.0.4)\n",
            "Requirement already satisfied: certifi>=2017.4.17 in /usr/local/lib/python3.7/dist-packages (from requests<3.0,>=2.20.0->googlemaps) (2021.10.8)\n"
          ]
        }
      ]
    },
    {
      "cell_type": "code",
      "metadata": {
        "id": "3QHeKcP3nv-a"
      },
      "source": [
        "import pandas as pd\n",
        "import numpy as np\n",
        "import matplotlib.pyplot as plt\n",
        "\n",
        "import googlemaps\n"
      ],
      "execution_count": null,
      "outputs": []
    },
    {
      "cell_type": "code",
      "metadata": {
        "id": "CorD3hFvn07E"
      },
      "source": [
        "def get_latlng_features(input_df, kyochanpykey):\n",
        "    input_df_ = input_df.copy()\n",
        "\n",
        "    gmaps = googlemaps.Client(key=kyochanpykey)\n",
        "\n",
        "    lat_list = []\n",
        "    lng_list = []\n",
        "    c = 0\n",
        "    for i in input_df_[\"出没場所\"].values:\n",
        "        gmap_list = gmaps.geocode(i)\n",
        "        try:\n",
        "            latlng = gmap_list[0][\"geometry\"][\"location\"]\n",
        "            lat = latlng[\"lat\"]\n",
        "            lng = latlng[\"lng\"]\n",
        "            lat_list.append(lat)\n",
        "            lng_list.append(lng)\n",
        "            c += 1\n",
        "            if c%10 == 0:\n",
        "                print(c)\n",
        "        except IndexError:\n",
        "            lat_list.append(\"不明\")\n",
        "            lng_list.append(\"不明\")\n",
        "            c += 1\n",
        "            if c%10 == 0:\n",
        "                print(c)\n",
        "\n",
        "    output_df = input_df.copy()\n",
        "    output_df[\"lat\"] = lat_list\n",
        "    output_df[\"lng\"] = lng_list\n",
        "\n",
        "    return output_df"
      ],
      "execution_count": null,
      "outputs": []
    },
    {
      "cell_type": "code",
      "metadata": {
        "id": "09kvjO4pvieJ"
      },
      "source": [
        "df = pd.read_csv(\"/content/drive/MyDrive/forest_bears/forest_bears_base_df.csv\")"
      ],
      "execution_count": null,
      "outputs": []
    },
    {
      "cell_type": "code",
      "metadata": {
        "colab": {
          "base_uri": "https://localhost:8080/",
          "height": 493
        },
        "id": "lw4GHFVF2KoV",
        "outputId": "ede17891-3203-4d38-9c62-b1fef08d5598"
      },
      "source": [
        "df"
      ],
      "execution_count": null,
      "outputs": [
        {
          "output_type": "execute_result",
          "data": {
            "text/html": [
              "<div>\n",
              "<style scoped>\n",
              "    .dataframe tbody tr th:only-of-type {\n",
              "        vertical-align: middle;\n",
              "    }\n",
              "\n",
              "    .dataframe tbody tr th {\n",
              "        vertical-align: top;\n",
              "    }\n",
              "\n",
              "    .dataframe thead th {\n",
              "        text-align: right;\n",
              "    }\n",
              "</style>\n",
              "<table border=\"1\" class=\"dataframe\">\n",
              "  <thead>\n",
              "    <tr style=\"text-align: right;\">\n",
              "      <th></th>\n",
              "      <th>No.</th>\n",
              "      <th>区</th>\n",
              "      <th>発生日時</th>\n",
              "      <th>出没場所</th>\n",
              "      <th>状況</th>\n",
              "    </tr>\n",
              "  </thead>\n",
              "  <tbody>\n",
              "    <tr>\n",
              "      <th>0</th>\n",
              "      <td>1.0</td>\n",
              "      <td>南区</td>\n",
              "      <td>平28年 4月14日(木)</td>\n",
              "      <td>南区南沢市民の森　案内板2番と3番の間</td>\n",
              "      <td>足跡を確認</td>\n",
              "    </tr>\n",
              "    <tr>\n",
              "      <th>1</th>\n",
              "      <td>2.0</td>\n",
              "      <td>南区</td>\n",
              "      <td>平28年 4月20日(水)</td>\n",
              "      <td>南区白川市民の森　案内板7番から8番へ30m地点　案内板5番から21番へ200m地点</td>\n",
              "      <td>足跡・爪痕を確認</td>\n",
              "    </tr>\n",
              "    <tr>\n",
              "      <th>2</th>\n",
              "      <td>3.0</td>\n",
              "      <td>南区</td>\n",
              "      <td>平28年 4月21日(木)</td>\n",
              "      <td>南区定山渓920番地付近　豊羽鉱山への道道</td>\n",
              "      <td>足跡を確認</td>\n",
              "    </tr>\n",
              "    <tr>\n",
              "      <th>3</th>\n",
              "      <td>4.0</td>\n",
              "      <td>南区</td>\n",
              "      <td>平28年 4月28日(木)</td>\n",
              "      <td>南区真駒内柏丘1丁目　真駒内川河川敷</td>\n",
              "      <td>ヒグマらしき動物を目撃</td>\n",
              "    </tr>\n",
              "    <tr>\n",
              "      <th>4</th>\n",
              "      <td>5.0</td>\n",
              "      <td>南区</td>\n",
              "      <td>平28年 5月14日(土)</td>\n",
              "      <td>南区定山渓（定山渓自然の村南東約300mの林道）</td>\n",
              "      <td>ヒグマを目撃</td>\n",
              "    </tr>\n",
              "    <tr>\n",
              "      <th>...</th>\n",
              "      <td>...</td>\n",
              "      <td>...</td>\n",
              "      <td>...</td>\n",
              "      <td>...</td>\n",
              "      <td>...</td>\n",
              "    </tr>\n",
              "    <tr>\n",
              "      <th>558</th>\n",
              "      <td>91.0</td>\n",
              "      <td>手稲区</td>\n",
              "      <td>令和2年11月12日(木)</td>\n",
              "      <td>手稲区手稲本町593番地151付近（手稲山麓西線上）</td>\n",
              "      <td>足跡・鳴き声を確認</td>\n",
              "    </tr>\n",
              "    <tr>\n",
              "      <th>559</th>\n",
              "      <td>92.0</td>\n",
              "      <td>西区</td>\n",
              "      <td>令和2年12月4日(金)</td>\n",
              "      <td>西区小別沢20番地付近</td>\n",
              "      <td>足跡、被毛を確認</td>\n",
              "    </tr>\n",
              "    <tr>\n",
              "      <th>560</th>\n",
              "      <td>93.0</td>\n",
              "      <td>南区</td>\n",
              "      <td>令和2年12月23日(水)18:30</td>\n",
              "      <td>南区石山1045番地2付近</td>\n",
              "      <td>ヒグマを目撃</td>\n",
              "    </tr>\n",
              "    <tr>\n",
              "      <th>561</th>\n",
              "      <td>94.0</td>\n",
              "      <td>南区</td>\n",
              "      <td>令和3年3月25日(木)</td>\n",
              "      <td>南区白川市民の森(案内板20番から17番方向へ約20mの付近)</td>\n",
              "      <td>足跡を確認</td>\n",
              "    </tr>\n",
              "    <tr>\n",
              "      <th>562</th>\n",
              "      <td>95.0</td>\n",
              "      <td>西区</td>\n",
              "      <td>令和3年3月27日(土)</td>\n",
              "      <td>西区西野290-1（宮丘公園遊歩道）</td>\n",
              "      <td>ヒグマを目撃</td>\n",
              "    </tr>\n",
              "  </tbody>\n",
              "</table>\n",
              "<p>563 rows × 5 columns</p>\n",
              "</div>"
            ],
            "text/plain": [
              "      No.    区  ...                                        出没場所           状況\n",
              "0     1.0   南区  ...                         南区南沢市民の森　案内板2番と3番の間        足跡を確認\n",
              "1     2.0   南区  ...  南区白川市民の森　案内板7番から8番へ30m地点　案内板5番から21番へ200m地点     足跡・爪痕を確認\n",
              "2     3.0   南区  ...                       南区定山渓920番地付近　豊羽鉱山への道道        足跡を確認\n",
              "3     4.0   南区  ...                          南区真駒内柏丘1丁目　真駒内川河川敷  ヒグマらしき動物を目撃\n",
              "4     5.0   南区  ...                    南区定山渓（定山渓自然の村南東約300mの林道）       ヒグマを目撃\n",
              "..    ...  ...  ...                                         ...          ...\n",
              "558  91.0  手稲区  ...                  手稲区手稲本町593番地151付近（手稲山麓西線上）    足跡・鳴き声を確認\n",
              "559  92.0   西区  ...                                 西区小別沢20番地付近     足跡、被毛を確認\n",
              "560  93.0   南区  ...                               南区石山1045番地2付近       ヒグマを目撃\n",
              "561  94.0   南区  ...             南区白川市民の森(案内板20番から17番方向へ約20mの付近)        足跡を確認\n",
              "562  95.0   西区  ...                          西区西野290-1（宮丘公園遊歩道）       ヒグマを目撃\n",
              "\n",
              "[563 rows x 5 columns]"
            ]
          },
          "metadata": {},
          "execution_count": 40
        }
      ]
    },
    {
      "cell_type": "code",
      "metadata": {
        "colab": {
          "base_uri": "https://localhost:8080/"
        },
        "id": "7iWC27cxnmQi",
        "outputId": "390194c0-bdb5-497e-ed74-731ea2e552e1"
      },
      "source": [
        "address_df = get_latlng_features(df, \"\")"
      ],
      "execution_count": null,
      "outputs": [
        {
          "output_type": "stream",
          "name": "stdout",
          "text": [
            "10\n",
            "20\n",
            "30\n",
            "40\n",
            "50\n",
            "60\n",
            "70\n",
            "80\n",
            "90\n",
            "100\n",
            "110\n",
            "120\n",
            "130\n",
            "140\n",
            "150\n",
            "160\n",
            "170\n",
            "180\n",
            "190\n",
            "200\n",
            "210\n",
            "220\n",
            "230\n",
            "240\n",
            "250\n",
            "260\n",
            "270\n",
            "280\n",
            "290\n",
            "300\n",
            "310\n",
            "320\n",
            "330\n",
            "340\n",
            "350\n",
            "360\n",
            "370\n",
            "380\n",
            "390\n",
            "400\n",
            "410\n",
            "420\n",
            "430\n",
            "440\n",
            "450\n",
            "460\n",
            "470\n",
            "480\n",
            "490\n",
            "500\n",
            "510\n",
            "520\n",
            "530\n",
            "540\n",
            "550\n",
            "560\n"
          ]
        }
      ]
    },
    {
      "cell_type": "code",
      "source": [
        "address_df[\"lat\"] = address_df[\"lat\"].replace(\"不明\", 42.9403311)\n",
        "address_df[\"lng\"] = address_df[\"lng\"].replace(\"不明\", 141.2603156)"
      ],
      "metadata": {
        "id": "_KeNiJB9__EU"
      },
      "execution_count": null,
      "outputs": []
    },
    {
      "cell_type": "code",
      "source": [
        "address_df.to_csv('forest_bears_with_latlng.csv', index=False)"
      ],
      "metadata": {
        "id": "-1nSQi5f0K24"
      },
      "execution_count": null,
      "outputs": []
    }
  ]
}