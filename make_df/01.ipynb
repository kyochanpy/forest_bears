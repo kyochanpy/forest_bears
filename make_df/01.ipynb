{
  "nbformat": 4,
  "nbformat_minor": 0,
  "metadata": {
    "colab": {
      "name": "Untitled168.ipynb",
      "provenance": [],
      "mount_file_id": "1UWGrd-grqs3441rNA8m-rjw-88buIsmt",
      "authorship_tag": "ABX9TyPNdVDoayevYfITTBPgtD9v",
      "include_colab_link": true
    },
    "kernelspec": {
      "name": "python3",
      "display_name": "Python 3"
    },
    "language_info": {
      "name": "python"
    }
  },
  "cells": [
    {
      "cell_type": "markdown",
      "metadata": {
        "id": "view-in-github",
        "colab_type": "text"
      },
      "source": [
        "<a href=\"https://colab.research.google.com/github/kyochanpy/forest_bears/blob/main/make_df/01.ipynb\" target=\"_parent\"><img src=\"https://colab.research.google.com/assets/colab-badge.svg\" alt=\"Open In Colab\"/></a>"
      ]
    },
    {
      "cell_type": "code",
      "metadata": {
        "id": "go2LvoPLIuwH"
      },
      "source": [
        "import pandas as pd\n",
        "import numpy as np\n",
        "import matplotlib.pyplot as plt\n",
        "from datetime import datetime as dt\n",
        "import re"
      ],
      "execution_count": 15,
      "outputs": []
    },
    {
      "cell_type": "code",
      "metadata": {
        "id": "CM2ubiy-N4vc"
      },
      "source": [
        "def set_columns(input_df):\n",
        "    input_df_ = input_df.copy()\n",
        "\n",
        "    output_df = input_df_.shift()                \n",
        "    output_df.iloc[0] = output_df.columns.values\n",
        "    output_df.columns = ['No.', '区', '発生日時', '出没場所', '状況']\n",
        "\n",
        "    return output_df"
      ],
      "execution_count": 16,
      "outputs": []
    },
    {
      "cell_type": "code",
      "metadata": {
        "id": "W_91YyjGW-9q"
      },
      "source": [
        "def fix_df(input_df):\n",
        "    input_df_ = input_df.copy()\n",
        "    \n",
        "    idx_list = []\n",
        "    no_list = input_df_[\"No.\"].tolist()\n",
        "    for i in no_list:\n",
        "        if np.isnan(i):\n",
        "            idx_list.append(no_list.index(i))\n",
        "\n",
        "    for i in idx_list:\n",
        "        i_ = input_df_.iloc[i, 2]\n",
        "        if type(i_) != float:\n",
        "            input_df_.iloc[i, 2]  = i_.strftime('%H:%M')\n",
        "\n",
        "    input_df_ = input_df_.fillna(\"\")\n",
        "\n",
        "    for i in idx_list:\n",
        "        input_df_.iloc[i-1, 2:4] = input_df_.iloc[i-1, 2:4] + input_df_.iloc[i, 2:4]\n",
        "        \n",
        "    output_df = input_df_.drop(idx_list)\n",
        "\n",
        "    return output_df"
      ],
      "execution_count": 17,
      "outputs": []
    },
    {
      "cell_type": "code",
      "metadata": {
        "id": "rAnFgWxivVrx"
      },
      "source": [
        "def make_df():\n",
        "    output_df = pd.DataFrame()\n",
        "    for i in range(5):\n",
        "        excel_df = pd.read_excel(\"/content/drive/MyDrive/forest_bears/forest_bears.xlsx\", sheet_name=i)\n",
        "        tmp_df = set_columns(excel_df)\n",
        "        df = fix_df(tmp_df)\n",
        "        output_df = pd.concat([output_df, df])\n",
        "    \n",
        "    return output_df"
      ],
      "execution_count": 18,
      "outputs": []
    },
    {
      "cell_type": "code",
      "metadata": {
        "id": "4FG-GX5UtFWN"
      },
      "source": [
        "def get_date_time_features(input_df):\n",
        "    input_df_ = input_df.copy()\n",
        "\n",
        "    no_values = input_df_[\"No.\"].values\n",
        "    len_list_ = []\n",
        "    for i in range(len(no_values)+1):\n",
        "        if no_values[i+1] - no_values[i] != 1:\n",
        "            len_list_.append(i)\n",
        "            if len(len_list_) == 4:\n",
        "                break\n",
        "    len_list_.append(len(no_values))\n",
        "    \n",
        "    len_list = []\n",
        "    for i in range(0,len(len_list_)):\n",
        "        i_ = len_list_[i] - len_list_[i-1]\n",
        "        len_list.append(i_)\n",
        "    len_list[0] = len_list_[0]\n",
        "\n",
        "    fiscal_year_list = []\n",
        "    for i, j in zip(\n",
        "        len_list,\n",
        "        [\"h28\", \"h29\", \"h30\", \"r1\", \"r2\"]\n",
        "    ):\n",
        "        fiscal_year_list = fiscal_year_list + [j] * i\n",
        "    \n",
        "    year_list = []\n",
        "    month_list = []\n",
        "    day_list = []\n",
        "    day_week_list = []\n",
        "    time_list = []\n",
        "    for i in input_df_[\"発生日時\"].values:\n",
        "        i = i.replace(\" \", \"\")\n",
        "        if len(i) > 14:\n",
        "            i_list = re.findall(r\"\\d+\", i)\n",
        "            if i_list[0] == \"28\":\n",
        "                year_list.append(f\"h{i_list[0]}\")\n",
        "            else:\n",
        "                year_list.append(f\"r{i_list[0]}\")\n",
        "            month_list.append(i_list[1])\n",
        "            day_list.append(i_list[2])\n",
        "            day_week_list.append(i[-7])\n",
        "            time_list.append(i[-5:])\n",
        "        elif len(i) <= 10:\n",
        "            i_list = re.findall(r\"\\d+\", i)\n",
        "            year_list.append(\"不明\")\n",
        "            month_list.append(i_list[0])\n",
        "            day_list.append(i_list[1])\n",
        "            day_week_list.append(i[-2])\n",
        "            time_list.append(\"不明\")\n",
        "        elif (len(i) > 10) and (i[-3] == \":\"):\n",
        "            i_list = re.findall(r\"\\d+\", i)\n",
        "            year_list.append(\"不明\")\n",
        "            month_list.append(i_list[0])\n",
        "            day_list.append(i_list[1])\n",
        "            day_week_list.append(i[-7])\n",
        "            time_list.append(i[-5:])\n",
        "        else:\n",
        "            i_list = re.findall(r\"\\d+\", i)\n",
        "            if i_list[0] == \"28\":\n",
        "                year_list.append(f\"h{i_list[0]}\")\n",
        "            else:\n",
        "                year_list.append(f\"r{i_list[0]}\")\n",
        "            month_list.append(i_list[1])\n",
        "            day_list.append(i_list[2])\n",
        "            day_week_list.append(i[-2])\n",
        "            time_list.append(\"不明\")\n",
        "\n",
        "    output_df = pd.DataFrame()\n",
        "    output_df[\"年度\"] = fiscal_year_list\n",
        "    output_df[\"年\"] = year_list\n",
        "    output_df[\"月\"] = month_list\n",
        "    output_df[\"日\"] = day_list\n",
        "    output_df[\"曜日\"] = day_week_list\n",
        "    output_df[\"時間\"] = time_list\n",
        "   \n",
        "    fixed_year_list = []\n",
        "    for f, y, m in zip(\n",
        "        output_df[\"年度\"].values,\n",
        "        output_df[\"年\"].values,\n",
        "        output_df[\"月\"].values\n",
        "    ):\n",
        "        if y != \"不明\":\n",
        "            fixed_year_list.append(y)\n",
        "        else:\n",
        "            if 4 <= int(m) <= 12:\n",
        "                fixed_year_list.append(f)\n",
        "            else:\n",
        "                if y == \"r2\":\n",
        "                    fixed_year_list.append(\"r3\")\n",
        "                else:\n",
        "                    fixed_year_list.append(fixed_year_list[fixed_year_list.index(y)+1])\n",
        "    output_df[\"年\"] = fixed_year_list  \n",
        "\n",
        "    return output_df"
      ],
      "execution_count": 19,
      "outputs": []
    },
    {
      "cell_type": "code",
      "metadata": {
        "id": "6YKVW3t0NkdB"
      },
      "source": [
        "df = get_date_time_features(make_df())"
      ],
      "execution_count": 22,
      "outputs": []
    },
    {
      "cell_type": "code",
      "metadata": {
        "id": "rbaW1j6O6ska"
      },
      "source": [
        "df.to_csv(\"forest_bears_df_1.csv\", index=False)"
      ],
      "execution_count": 24,
      "outputs": []
    },
    {
      "cell_type": "code",
      "metadata": {
        "id": "SXfNFsz06OQj"
      },
      "source": [
        ""
      ],
      "execution_count": null,
      "outputs": []
    }
  ]
}