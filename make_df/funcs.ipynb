{
  "nbformat": 4,
  "nbformat_minor": 0,
  "metadata": {
    "colab": {
      "name": "Untitled179.ipynb",
      "provenance": [],
      "authorship_tag": "ABX9TyOYp+JwyRaRHN4tT4zr8XKF",
      "include_colab_link": true
    },
    "kernelspec": {
      "name": "python3",
      "display_name": "Python 3"
    },
    "language_info": {
      "name": "python"
    }
  },
  "cells": [
    {
      "cell_type": "markdown",
      "metadata": {
        "id": "view-in-github",
        "colab_type": "text"
      },
      "source": [
        "<a href=\"https://colab.research.google.com/github/kyochanpy/forest_bears/blob/main/make_df/funcs.ipynb\" target=\"_parent\"><img src=\"https://colab.research.google.com/assets/colab-badge.svg\" alt=\"Open In Colab\"/></a>"
      ]
    },
    {
      "cell_type": "code",
      "source": [
        "# 素のデータから日時のデータを生成する関数\n",
        "def get_date_time_features(input_df):\n",
        "    input_df_ = input_df.copy()\n",
        "\n",
        "    no_values = input_df_[\"No.\"].values\n",
        "    len_list_ = []\n",
        "    for i in range(len(no_values)+1):\n",
        "        if no_values[i+1] - no_values[i] != 1:\n",
        "            len_list_.append(i)\n",
        "            if len(len_list_) == 4:\n",
        "                break\n",
        "    len_list_.append(len(no_values))\n",
        "    \n",
        "    len_list = []\n",
        "    for i in range(0,len(len_list_)):\n",
        "        i_ = len_list_[i] - len_list_[i-1]\n",
        "        len_list.append(i_)\n",
        "    len_list[0] = len_list_[0]\n",
        "\n",
        "    fiscal_year_list = []\n",
        "    for i, j in zip(\n",
        "        len_list,\n",
        "        [\"28\", \"29\", \"30\", \"1\", \"2\"]\n",
        "    ):\n",
        "        fiscal_year_list = fiscal_year_list + [j] * i\n",
        "    \n",
        "    year_list = []\n",
        "    month_list = []\n",
        "    day_list = []\n",
        "    day_week_list = []\n",
        "    time_list = []\n",
        "    for i in input_df_[\"発生日時\"].values:\n",
        "        i = i.replace(\" \", \"\")\n",
        "        if len(i) > 14:\n",
        "            i_list = re.findall(r\"\\d+\", i)\n",
        "            if i_list[0] == \"28\":\n",
        "                year_list.append(f\"{i_list[0]}\")\n",
        "            else:\n",
        "                year_list.append(f\"{i_list[0]}\")\n",
        "            month_list.append(i_list[1])\n",
        "            day_list.append(i_list[2])\n",
        "            day_week_list.append(i[-7])\n",
        "            time_list.append(i[-5:])\n",
        "        elif len(i) <= 10:\n",
        "            i_list = re.findall(r\"\\d+\", i)\n",
        "            year_list.append(\"不明\")\n",
        "            month_list.append(i_list[0])\n",
        "            day_list.append(i_list[1])\n",
        "            day_week_list.append(i[-2])\n",
        "            time_list.append(\"不明\")\n",
        "        elif (len(i) > 10) and (i[-3] == \":\"):\n",
        "            i_list = re.findall(r\"\\d+\", i)\n",
        "            year_list.append(\"不明\")\n",
        "            month_list.append(i_list[0])\n",
        "            day_list.append(i_list[1])\n",
        "            day_week_list.append(i[-7])\n",
        "            time_list.append(i[-5:])\n",
        "        else:\n",
        "            i_list = re.findall(r\"\\d+\", i)\n",
        "            if i_list[0] == \"28\":\n",
        "                year_list.append(f\"{i_list[0]}\")\n",
        "            else:\n",
        "                year_list.append(f\"{i_list[0]}\")\n",
        "            month_list.append(i_list[1])\n",
        "            day_list.append(i_list[2])\n",
        "            day_week_list.append(i[-2])\n",
        "            time_list.append(\"不明\")\n",
        "\n",
        "    output_df = pd.DataFrame()\n",
        "    output_df[\"年度\"] = fiscal_year_list\n",
        "    output_df[\"年\"] = year_list\n",
        "    output_df[\"月\"] = month_list\n",
        "    output_df[\"日\"] = day_list\n",
        "    output_df[\"曜日\"] = day_week_list\n",
        "    output_df[\"時間\"] = time_list\n",
        "   \n",
        "    fixed_year_list = []\n",
        "    for f, y, m in zip(\n",
        "        output_df[\"年度\"].values,\n",
        "        output_df[\"年\"].values,\n",
        "        output_df[\"月\"].values\n",
        "    ):\n",
        "        if y != \"不明\":\n",
        "            fixed_year_list.append(y)\n",
        "        else:\n",
        "            if 4 <= int(m) <= 12:\n",
        "                fixed_year_list.append(f)\n",
        "            else:\n",
        "                if y == \"r2\":\n",
        "                    fixed_year_list.append(\"r3\")\n",
        "                else:\n",
        "                    fixed_year_list.append(fixed_year_list[fixed_year_list.index(y)+1])\n",
        "    output_df[\"年\"] = fixed_year_list  \n",
        "\n",
        "    output_df[\"年度\"] =  output_df[\"年度\"].astype(int)\n",
        "    output_df[\"年\"] = output_df[\"年\"].astype(int)\n",
        "    output_df[\"月\"] = output_df[\"月\"].astype(int)\n",
        "    output_df[\"日\"] = output_df[\"日\"].astype(int)\n",
        "\n",
        "    return output_df"
      ],
      "metadata": {
        "id": "1MPnmV5YfAwA"
      },
      "execution_count": null,
      "outputs": []
    },
    {
      "cell_type": "code",
      "source": [
        "# KEY_CODEを含むデータにKEY_CODEのPolygonを追加する関数\n",
        "def get_geometry_features(input_df, path):\n",
        "    input_df_ = input_df.copy()\n",
        "    geo_df = gpd.read_file(path)\n",
        "\n",
        "    geo_df[\"KEY_CODE\"] = geo_df[\"KEY_CODE\"].astype(int)\n",
        "\n",
        "    output_df = pd.merge(input_df_, geo_df.iloc[:, [0,-1]], on=\"KEY_CODE\")\n",
        "\n",
        "    return output_df"
      ],
      "metadata": {
        "id": "JMaG3-7AfVpE"
      },
      "execution_count": null,
      "outputs": []
    },
    {
      "cell_type": "code",
      "source": [
        "# 経緯度からその地点5次地域メッシュコードを追加する関数\n",
        "def get_mesh5_features(input_df):\n",
        "    input_df_ = input_df.copy()\n",
        "\n",
        "    mesh5_list = []\n",
        "    for lat, lng in zip(\n",
        "        input_df_[\"lat\"].to_numpy(),\n",
        "        input_df_[\"lng\"].to_numpy()\n",
        "    ):\n",
        "        mesh_code = ju.to_meshcode(lat, lng, 5)\n",
        "        mesh5_list.append(mesh_code)\n",
        "    \n",
        "    output_df = input_df.copy()\n",
        "    output_df[\"KEY_CODE\"] = mesh5_list\n",
        "\n",
        "    return output_df"
      ],
      "metadata": {
        "id": "4Dwm5185fudY"
      },
      "execution_count": null,
      "outputs": []
    },
    {
      "cell_type": "code",
      "source": [
        "# 経緯度からその地点4次地域メッシュコードを追加する関数\n",
        "def get_mesh4_features(input_df):\n",
        "    input_df_ = input_df.copy()\n",
        "\n",
        "    mesh4_list = []\n",
        "    for lat, lng in zip(\n",
        "        input_df_[\"lat\"].to_numpy(),\n",
        "        input_df_[\"lng\"].to_numpy()\n",
        "    ):\n",
        "        mesh_code = ju.to_meshcode(lat, lng, 4)\n",
        "        mesh4_list.append(mesh_code)\n",
        "    \n",
        "    output_df = input_df.copy()\n",
        "    output_df[\"KEY_CODE\"] = mesh4_list\n",
        "\n",
        "    return output_df"
      ],
      "metadata": {
        "id": "xsgoSyeIf5Wu"
      },
      "execution_count": null,
      "outputs": []
    },
    {
      "cell_type": "code",
      "source": [
        "# KEY_CODE(5次)を含むデータからそのKEY_CODEの人口の特徴量を生成する関数\n",
        "def get_population_mesh5_features(path):\n",
        "    df = pd.read_table(path, sep='\\s+|,', engine='python')\n",
        "\n",
        "    output_df = df.loc[:, (\"KEY_CODE\", \"T000876001\")].drop(0)\n",
        "    output_df[\"KEY_CODE\"] = output_df[\"KEY_CODE\"].astype(int)\n",
        "    output_df.rename(columns={\"T000876001\":\"人口\"}, inplace=True)\n",
        "    output_df[\"人口\"] = output_df[\"人口\"].astype(int)\n",
        "    return output_df"
      ],
      "metadata": {
        "id": "lYZ_c-8Mf-e0"
      },
      "execution_count": null,
      "outputs": []
    },
    {
      "cell_type": "code",
      "source": [
        "# KEY_CODE(4次)を含むデータからそのKEY_CODEの人口の特徴量を生成する関数\n",
        "def get_population_mesh4_features(path):\n",
        "    df = pd.read_table(path, sep='\\s+|,', engine='python')\n",
        "\n",
        "    output_df = df.loc[:, (\"KEY_CODE\", \"T000847001\")].drop(0)\n",
        "    output_df[\"KEY_CODE\"] = output_df[\"KEY_CODE\"].astype(int)\n",
        "    output_df.rename(columns={\"T000847001\":\"人口\"}, inplace=True)\n",
        "    output_df[\"人口\"] = output_df[\"人口\"].astype(int)\n",
        "    return output_df"
      ],
      "metadata": {
        "id": "YpQDaKDpf-bi"
      },
      "execution_count": null,
      "outputs": []
    },
    {
      "cell_type": "code",
      "source": [
        "# DataFrameをGeoDataFrameに変換する関数\n",
        "def GDF(input_df):\n",
        "    input_df_ = input_df.copy()\n",
        "    output_df = gpd.GeoDataFrame(input_df_)\n",
        "    return output_df"
      ],
      "metadata": {
        "id": "xXTrPwTEf-VC"
      },
      "execution_count": null,
      "outputs": []
    },
    {
      "cell_type": "code",
      "source": [
        "# メッシュの中心座標を求める関数\n",
        "def min_max_coordinates(input_df):\n",
        "    input_df_ = input_df.copy()\n",
        "\n",
        "    lng_center_list = []\n",
        "    lat_center_list = []\n",
        "    for n in input_df_[\"geometry\"]:\n",
        "        coordinates_list = list(zip(*n.exterior.coords.xy))\n",
        "        lng_list_ = []\n",
        "        lat_list_ = []\n",
        "        for m in coordinates_list:\n",
        "            lng_list_.append(m[0])\n",
        "            lat_list_.append(m[1])\n",
        "        lng_mean = sum(lng_list_) / len(lng_list_)\n",
        "        lng_center_list.append(lng_mean)\n",
        "        lat_mean = sum(lat_list_) / len(lat_list_)\n",
        "        lat_center_list.append(lat_mean)\n",
        "\n",
        "    output_df = input_df.copy()\n",
        "    output_df[\"lng_center\"] = lng_center_list\n",
        "    output_df[\"lat_center\"] = lat_center_list\n",
        "    \n",
        "    return output_df"
      ],
      "metadata": {
        "id": "QE8K-HvygzLc"
      },
      "execution_count": null,
      "outputs": []
    },
    {
      "cell_type": "code",
      "source": [
        "# 任意の点が15角形で表された札幌市内に含まれているか判別し、内側の点だけのDataFrameを出力する関数\n",
        "def get_sapporo_df(input_df):\n",
        "    input_df_ = input_df.copy()\n",
        "\n",
        "    # 札幌を表すpolygon\n",
        "    poly = Polygon( *((43.023028, 140.980742),\n",
        "                      (42.886595, 141.036161),\n",
        "                      (42.821037, 141.090321),\n",
        "                      (42.779450, 141.160855),\n",
        "                      (42.790860, 141.231606),\n",
        "                      (42.872928, 141.286189),\n",
        "                      (42.869773, 141.334252),\n",
        "                      (42.890012, 141.421411),\n",
        "                      (43.021005, 141.506059),\n",
        "                      (43.060363, 141.500538),\n",
        "                      (43.190986, 141.401330),\n",
        "                      (43.161179, 141.224740),\n",
        "                      (43.142071, 141.185851),\n",
        "                      (43.105577, 141.155691),\n",
        "                      (43.124406, 141.071563)) ) \n",
        "    \n",
        "    points = []\n",
        "    for lat, lng in zip(\n",
        "        input_df_[\"lat_center\"].to_numpy(),\n",
        "        input_df_[\"lng_center\"].to_numpy()\n",
        "    ):\n",
        "        points.append((lat, lng))\n",
        "    \n",
        "    sapporo_frag = []\n",
        "    for p in points:\n",
        "        if poly.encloses_point(p) == True:\n",
        "            sapporo_frag.append(1)\n",
        "        else:\n",
        "            sapporo_frag.append(0)\n",
        "    \n",
        "    input_df_[\"sapporo_frag\"] = sapporo_frag\n",
        "    output_df = input_df_[input_df_[\"sapporo_frag\"] == 1][input_df.columns]\n",
        "\n",
        "    return output_df"
      ],
      "metadata": {
        "id": "HuddU8lfhKw7"
      },
      "execution_count": null,
      "outputs": []
    },
    {
      "cell_type": "code",
      "source": [
        "# 実験①のためのDataFrameを生成する関数\n",
        "def get_df(population_df, base_df):\n",
        "    population_df_ = population_df.copy()[[\"KEY_CODE\", \"人口\"]]\n",
        "    base_df_ = base_df.copy().drop(\"人口\", axis=1)\n",
        "\n",
        "    tmp_df = pd.DataFrame()\n",
        "    for i in range(2016, 2022):\n",
        "        population_df_[\"年度\"] = i\n",
        "        df = base_df_[base_df_[\"年度\"] == i]\n",
        "        df_ = pd.merge(population_df_, df,  on=[\"KEY_CODE\", \"年度\"], how=\"left\")\n",
        "        tmp_df = pd.concat([tmp_df, df_])\n",
        "\n",
        "    bears_dummy = []\n",
        "    for i in tmp_df[\"No.\"]:\n",
        "        if i == i:  # これでiがnanかどうか判別できる\n",
        "            bears_dummy.append(1)\n",
        "        else:\n",
        "            bears_dummy.append(0)\n",
        "    tmp_df[\"出没ダミー\"] = bears_dummy\n",
        "    dummy_df = pd.get_dummies(tmp_df[\"年度\"], prefix=\"年度\" ,drop_first=True)\n",
        "\n",
        "    output_df = tmp_df[[\"出没ダミー\", \"人口\"]]\n",
        "    output_df = pd.concat([output_df, dummy_df], axis=1)\n",
        "\n",
        "    for i in range(2017, 2022):\n",
        "        output_df[f\"交差項_{i}\"] = output_df[\"人口\"] * output_df[f\"年度_{i}\"]\n",
        "\n",
        "    return output_df"
      ],
      "metadata": {
        "id": "5ORu1b5ChrVX"
      },
      "execution_count": null,
      "outputs": []
    },
    {
      "cell_type": "code",
      "source": [
        "# 1995∼2015の5年おきのデータをmergeする関数\n",
        "def make_df():\n",
        "    c = 0\n",
        "    for i in range(1995, 2016, 5):\n",
        "        if c == 0:\n",
        "            KC = get_population_mesh4_features_by_years(f\"/content/drive/MyDrive/forest_bears/{str(i)}_6441.txt\")[[\"KEY_CODE\"]]\n",
        "            KC[f\"dummy_{str(i)}\"] = int(0)\n",
        "            KEY_CODE = KC\n",
        "            c += 1\n",
        "        else:\n",
        "            KC = get_population_mesh4_features_by_years(f\"/content/drive/MyDrive/forest_bears/{str(i)}_6441.txt\")[[\"KEY_CODE\"]]\n",
        "            KC[f\"dummy_{str(i)}\"] = int(0)\n",
        "            KEY_CODE = pd.merge(KEY_CODE, KC, how=\"outer\")\n",
        "\n",
        "    output_df = get_geometry_features(KEY_CODE, \"/content/drive/MyDrive/forest_bears/MESH06441_4\")\n",
        "\n",
        "    return output_df.fillna(int(1))"
      ],
      "metadata": {
        "id": "qoVhg2UOid1t"
      },
      "execution_count": null,
      "outputs": []
    }
  ]
}