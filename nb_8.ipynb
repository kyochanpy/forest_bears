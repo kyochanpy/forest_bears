{
  "cells": [
    {
      "cell_type": "markdown",
      "metadata": {
        "id": "view-in-github",
        "colab_type": "text"
      },
      "source": [
        "<a href=\"https://colab.research.google.com/github/kyochanpy/forest_bears/blob/main/nb_8.ipynb\" target=\"_parent\"><img src=\"https://colab.research.google.com/assets/colab-badge.svg\" alt=\"Open In Colab\"/></a>"
      ]
    },
    {
      "cell_type": "code",
      "execution_count": null,
      "metadata": {
        "colab": {
          "base_uri": "https://localhost:8080/"
        },
        "id": "CBSVcdrYlmyV",
        "outputId": "cd96e1fc-9c59-40e9-f3bd-e248bb063821"
      },
      "outputs": [
        {
          "output_type": "stream",
          "name": "stdout",
          "text": [
            "Collecting geopandas\n",
            "  Downloading geopandas-0.10.2-py2.py3-none-any.whl (1.0 MB)\n",
            "\u001b[?25l\r\u001b[K     |▎                               | 10 kB 22.4 MB/s eta 0:00:01\r\u001b[K     |▋                               | 20 kB 28.6 MB/s eta 0:00:01\r\u001b[K     |█                               | 30 kB 25.0 MB/s eta 0:00:01\r\u001b[K     |█▎                              | 40 kB 18.6 MB/s eta 0:00:01\r\u001b[K     |█▋                              | 51 kB 10.8 MB/s eta 0:00:01\r\u001b[K     |██                              | 61 kB 11.1 MB/s eta 0:00:01\r\u001b[K     |██▎                             | 71 kB 10.5 MB/s eta 0:00:01\r\u001b[K     |██▌                             | 81 kB 11.6 MB/s eta 0:00:01\r\u001b[K     |██▉                             | 92 kB 11.9 MB/s eta 0:00:01\r\u001b[K     |███▏                            | 102 kB 9.7 MB/s eta 0:00:01\r\u001b[K     |███▌                            | 112 kB 9.7 MB/s eta 0:00:01\r\u001b[K     |███▉                            | 122 kB 9.7 MB/s eta 0:00:01\r\u001b[K     |████▏                           | 133 kB 9.7 MB/s eta 0:00:01\r\u001b[K     |████▌                           | 143 kB 9.7 MB/s eta 0:00:01\r\u001b[K     |████▊                           | 153 kB 9.7 MB/s eta 0:00:01\r\u001b[K     |█████                           | 163 kB 9.7 MB/s eta 0:00:01\r\u001b[K     |█████▍                          | 174 kB 9.7 MB/s eta 0:00:01\r\u001b[K     |█████▊                          | 184 kB 9.7 MB/s eta 0:00:01\r\u001b[K     |██████                          | 194 kB 9.7 MB/s eta 0:00:01\r\u001b[K     |██████▍                         | 204 kB 9.7 MB/s eta 0:00:01\r\u001b[K     |██████▊                         | 215 kB 9.7 MB/s eta 0:00:01\r\u001b[K     |███████                         | 225 kB 9.7 MB/s eta 0:00:01\r\u001b[K     |███████▎                        | 235 kB 9.7 MB/s eta 0:00:01\r\u001b[K     |███████▋                        | 245 kB 9.7 MB/s eta 0:00:01\r\u001b[K     |████████                        | 256 kB 9.7 MB/s eta 0:00:01\r\u001b[K     |████████▎                       | 266 kB 9.7 MB/s eta 0:00:01\r\u001b[K     |████████▋                       | 276 kB 9.7 MB/s eta 0:00:01\r\u001b[K     |█████████                       | 286 kB 9.7 MB/s eta 0:00:01\r\u001b[K     |█████████▏                      | 296 kB 9.7 MB/s eta 0:00:01\r\u001b[K     |█████████▌                      | 307 kB 9.7 MB/s eta 0:00:01\r\u001b[K     |█████████▉                      | 317 kB 9.7 MB/s eta 0:00:01\r\u001b[K     |██████████▏                     | 327 kB 9.7 MB/s eta 0:00:01\r\u001b[K     |██████████▌                     | 337 kB 9.7 MB/s eta 0:00:01\r\u001b[K     |██████████▉                     | 348 kB 9.7 MB/s eta 0:00:01\r\u001b[K     |███████████▏                    | 358 kB 9.7 MB/s eta 0:00:01\r\u001b[K     |███████████▍                    | 368 kB 9.7 MB/s eta 0:00:01\r\u001b[K     |███████████▊                    | 378 kB 9.7 MB/s eta 0:00:01\r\u001b[K     |████████████                    | 389 kB 9.7 MB/s eta 0:00:01\r\u001b[K     |████████████▍                   | 399 kB 9.7 MB/s eta 0:00:01\r\u001b[K     |████████████▊                   | 409 kB 9.7 MB/s eta 0:00:01\r\u001b[K     |█████████████                   | 419 kB 9.7 MB/s eta 0:00:01\r\u001b[K     |█████████████▍                  | 430 kB 9.7 MB/s eta 0:00:01\r\u001b[K     |█████████████▋                  | 440 kB 9.7 MB/s eta 0:00:01\r\u001b[K     |██████████████                  | 450 kB 9.7 MB/s eta 0:00:01\r\u001b[K     |██████████████▎                 | 460 kB 9.7 MB/s eta 0:00:01\r\u001b[K     |██████████████▋                 | 471 kB 9.7 MB/s eta 0:00:01\r\u001b[K     |███████████████                 | 481 kB 9.7 MB/s eta 0:00:01\r\u001b[K     |███████████████▎                | 491 kB 9.7 MB/s eta 0:00:01\r\u001b[K     |███████████████▋                | 501 kB 9.7 MB/s eta 0:00:01\r\u001b[K     |███████████████▉                | 512 kB 9.7 MB/s eta 0:00:01\r\u001b[K     |████████████████▏               | 522 kB 9.7 MB/s eta 0:00:01\r\u001b[K     |████████████████▌               | 532 kB 9.7 MB/s eta 0:00:01\r\u001b[K     |████████████████▉               | 542 kB 9.7 MB/s eta 0:00:01\r\u001b[K     |█████████████████▏              | 552 kB 9.7 MB/s eta 0:00:01\r\u001b[K     |█████████████████▌              | 563 kB 9.7 MB/s eta 0:00:01\r\u001b[K     |█████████████████▉              | 573 kB 9.7 MB/s eta 0:00:01\r\u001b[K     |██████████████████              | 583 kB 9.7 MB/s eta 0:00:01\r\u001b[K     |██████████████████▍             | 593 kB 9.7 MB/s eta 0:00:01\r\u001b[K     |██████████████████▊             | 604 kB 9.7 MB/s eta 0:00:01\r\u001b[K     |███████████████████             | 614 kB 9.7 MB/s eta 0:00:01\r\u001b[K     |███████████████████▍            | 624 kB 9.7 MB/s eta 0:00:01\r\u001b[K     |███████████████████▊            | 634 kB 9.7 MB/s eta 0:00:01\r\u001b[K     |████████████████████            | 645 kB 9.7 MB/s eta 0:00:01\r\u001b[K     |████████████████████▎           | 655 kB 9.7 MB/s eta 0:00:01\r\u001b[K     |████████████████████▋           | 665 kB 9.7 MB/s eta 0:00:01\r\u001b[K     |█████████████████████           | 675 kB 9.7 MB/s eta 0:00:01\r\u001b[K     |█████████████████████▎          | 686 kB 9.7 MB/s eta 0:00:01\r\u001b[K     |█████████████████████▋          | 696 kB 9.7 MB/s eta 0:00:01\r\u001b[K     |██████████████████████          | 706 kB 9.7 MB/s eta 0:00:01\r\u001b[K     |██████████████████████▎         | 716 kB 9.7 MB/s eta 0:00:01\r\u001b[K     |██████████████████████▋         | 727 kB 9.7 MB/s eta 0:00:01\r\u001b[K     |██████████████████████▉         | 737 kB 9.7 MB/s eta 0:00:01\r\u001b[K     |███████████████████████▏        | 747 kB 9.7 MB/s eta 0:00:01\r\u001b[K     |███████████████████████▌        | 757 kB 9.7 MB/s eta 0:00:01\r\u001b[K     |███████████████████████▉        | 768 kB 9.7 MB/s eta 0:00:01\r\u001b[K     |████████████████████████▏       | 778 kB 9.7 MB/s eta 0:00:01\r\u001b[K     |████████████████████████▌       | 788 kB 9.7 MB/s eta 0:00:01\r\u001b[K     |████████████████████████▉       | 798 kB 9.7 MB/s eta 0:00:01\r\u001b[K     |█████████████████████████       | 808 kB 9.7 MB/s eta 0:00:01\r\u001b[K     |█████████████████████████▍      | 819 kB 9.7 MB/s eta 0:00:01\r\u001b[K     |█████████████████████████▊      | 829 kB 9.7 MB/s eta 0:00:01\r\u001b[K     |██████████████████████████      | 839 kB 9.7 MB/s eta 0:00:01\r\u001b[K     |██████████████████████████▍     | 849 kB 9.7 MB/s eta 0:00:01\r\u001b[K     |██████████████████████████▊     | 860 kB 9.7 MB/s eta 0:00:01\r\u001b[K     |███████████████████████████     | 870 kB 9.7 MB/s eta 0:00:01\r\u001b[K     |███████████████████████████▎    | 880 kB 9.7 MB/s eta 0:00:01\r\u001b[K     |███████████████████████████▋    | 890 kB 9.7 MB/s eta 0:00:01\r\u001b[K     |████████████████████████████    | 901 kB 9.7 MB/s eta 0:00:01\r\u001b[K     |████████████████████████████▎   | 911 kB 9.7 MB/s eta 0:00:01\r\u001b[K     |████████████████████████████▋   | 921 kB 9.7 MB/s eta 0:00:01\r\u001b[K     |█████████████████████████████   | 931 kB 9.7 MB/s eta 0:00:01\r\u001b[K     |█████████████████████████████▎  | 942 kB 9.7 MB/s eta 0:00:01\r\u001b[K     |█████████████████████████████▌  | 952 kB 9.7 MB/s eta 0:00:01\r\u001b[K     |█████████████████████████████▉  | 962 kB 9.7 MB/s eta 0:00:01\r\u001b[K     |██████████████████████████████▏ | 972 kB 9.7 MB/s eta 0:00:01\r\u001b[K     |██████████████████████████████▌ | 983 kB 9.7 MB/s eta 0:00:01\r\u001b[K     |██████████████████████████████▉ | 993 kB 9.7 MB/s eta 0:00:01\r\u001b[K     |███████████████████████████████▏| 1.0 MB 9.7 MB/s eta 0:00:01\r\u001b[K     |███████████████████████████████▌| 1.0 MB 9.7 MB/s eta 0:00:01\r\u001b[K     |███████████████████████████████▊| 1.0 MB 9.7 MB/s eta 0:00:01\r\u001b[K     |████████████████████████████████| 1.0 MB 9.7 MB/s \n",
            "\u001b[?25hRequirement already satisfied: shapely>=1.6 in /usr/local/lib/python3.7/dist-packages (from geopandas) (1.8.0)\n",
            "Collecting pyproj>=2.2.0\n",
            "  Downloading pyproj-3.2.1-cp37-cp37m-manylinux2010_x86_64.whl (6.3 MB)\n",
            "\u001b[K     |████████████████████████████████| 6.3 MB 43.0 MB/s \n",
            "\u001b[?25hCollecting fiona>=1.8\n",
            "  Downloading Fiona-1.8.20-cp37-cp37m-manylinux1_x86_64.whl (15.4 MB)\n",
            "\u001b[K     |████████████████████████████████| 15.4 MB 43.5 MB/s \n",
            "\u001b[?25hRequirement already satisfied: pandas>=0.25.0 in /usr/local/lib/python3.7/dist-packages (from geopandas) (1.1.5)\n",
            "Requirement already satisfied: setuptools in /usr/local/lib/python3.7/dist-packages (from fiona>=1.8->geopandas) (57.4.0)\n",
            "Requirement already satisfied: click>=4.0 in /usr/local/lib/python3.7/dist-packages (from fiona>=1.8->geopandas) (7.1.2)\n",
            "Requirement already satisfied: certifi in /usr/local/lib/python3.7/dist-packages (from fiona>=1.8->geopandas) (2021.10.8)\n",
            "Collecting cligj>=0.5\n",
            "  Downloading cligj-0.7.2-py3-none-any.whl (7.1 kB)\n",
            "Requirement already satisfied: attrs>=17 in /usr/local/lib/python3.7/dist-packages (from fiona>=1.8->geopandas) (21.4.0)\n",
            "Collecting click-plugins>=1.0\n",
            "  Downloading click_plugins-1.1.1-py2.py3-none-any.whl (7.5 kB)\n",
            "Requirement already satisfied: six>=1.7 in /usr/local/lib/python3.7/dist-packages (from fiona>=1.8->geopandas) (1.15.0)\n",
            "Collecting munch\n",
            "  Downloading munch-2.5.0-py2.py3-none-any.whl (10 kB)\n",
            "Requirement already satisfied: numpy>=1.15.4 in /usr/local/lib/python3.7/dist-packages (from pandas>=0.25.0->geopandas) (1.19.5)\n",
            "Requirement already satisfied: python-dateutil>=2.7.3 in /usr/local/lib/python3.7/dist-packages (from pandas>=0.25.0->geopandas) (2.8.2)\n",
            "Requirement already satisfied: pytz>=2017.2 in /usr/local/lib/python3.7/dist-packages (from pandas>=0.25.0->geopandas) (2018.9)\n",
            "Installing collected packages: munch, cligj, click-plugins, pyproj, fiona, geopandas\n",
            "Successfully installed click-plugins-1.1.1 cligj-0.7.2 fiona-1.8.20 geopandas-0.10.2 munch-2.5.0 pyproj-3.2.1\n",
            "Collecting jismesh\n",
            "  Downloading jismesh-2.1.0-py2.py3-none-any.whl (11 kB)\n",
            "Requirement already satisfied: numpy>=1.15 in /usr/local/lib/python3.7/dist-packages (from jismesh) (1.19.5)\n",
            "Installing collected packages: jismesh\n",
            "Successfully installed jismesh-2.1.0\n",
            "Requirement already satisfied: folium in /usr/local/lib/python3.7/dist-packages (0.8.3)\n",
            "Requirement already satisfied: six in /usr/local/lib/python3.7/dist-packages (from folium) (1.15.0)\n",
            "Requirement already satisfied: requests in /usr/local/lib/python3.7/dist-packages (from folium) (2.23.0)\n",
            "Requirement already satisfied: branca>=0.3.0 in /usr/local/lib/python3.7/dist-packages (from folium) (0.4.2)\n",
            "Requirement already satisfied: jinja2 in /usr/local/lib/python3.7/dist-packages (from folium) (2.11.3)\n",
            "Requirement already satisfied: numpy in /usr/local/lib/python3.7/dist-packages (from folium) (1.19.5)\n",
            "Requirement already satisfied: MarkupSafe>=0.23 in /usr/local/lib/python3.7/dist-packages (from jinja2->folium) (2.0.1)\n",
            "Requirement already satisfied: certifi>=2017.4.17 in /usr/local/lib/python3.7/dist-packages (from requests->folium) (2021.10.8)\n",
            "Requirement already satisfied: idna<3,>=2.5 in /usr/local/lib/python3.7/dist-packages (from requests->folium) (2.10)\n",
            "Requirement already satisfied: chardet<4,>=3.0.2 in /usr/local/lib/python3.7/dist-packages (from requests->folium) (3.0.4)\n",
            "Requirement already satisfied: urllib3!=1.25.0,!=1.25.1,<1.26,>=1.21.1 in /usr/local/lib/python3.7/dist-packages (from requests->folium) (1.24.3)\n"
          ]
        }
      ],
      "source": [
        "!pip install geopandas\n",
        "!pip install jismesh\n",
        "!pip install folium"
      ]
    },
    {
      "cell_type": "code",
      "execution_count": null,
      "metadata": {
        "id": "zRffmLClloVo"
      },
      "outputs": [],
      "source": [
        "import re\n",
        "\n",
        "import pandas as pd\n",
        "import numpy as np\n",
        "import matplotlib.pyplot as plt\n",
        "import math\n",
        "\n",
        "\n",
        "import geopandas as gpd\n",
        "\n",
        "import jismesh.utils as ju\n",
        "import folium\n",
        "from shapely.geometry import Polygon\n",
        "import branca.colormap as cm\n",
        "from sympy.geometry import *"
      ]
    },
    {
      "cell_type": "code",
      "execution_count": null,
      "metadata": {
        "id": "_7-PBzh1ly_Z"
      },
      "outputs": [],
      "source": [
        "def get_population_mesh4_features_by_years(path):\n",
        "    df = pd.read_table(path, sep='\\s+|,', engine='python')\n",
        "\n",
        "    y = path[-13:-9]\n",
        "    print(y)\n",
        "    if y == \"1995\":\n",
        "        p = \"T000752001\"\n",
        "    elif y == \"2000\":\n",
        "        p = \"T000386001\"\n",
        "    elif y == \"2005\":\n",
        "        p = \"T000387001\"\n",
        "    elif y == \"2010\":\n",
        "        p = \"T000609001\"\n",
        "    elif y == \"2015\":\n",
        "        p = \"T000847001\"\n",
        "    print(p)\n",
        "\n",
        "    output_df = df.loc[:, (\"KEY_CODE\", p)].drop(0)\n",
        "    output_df[\"KEY_CODE\"] = output_df[\"KEY_CODE\"].astype(int)\n",
        "    output_df.rename(columns={p:\"人口\"}, inplace=True)\n",
        "    output_df[\"人口\"] = output_df[\"人口\"].astype(int)\n",
        "    return output_df"
      ]
    },
    {
      "cell_type": "code",
      "execution_count": null,
      "metadata": {
        "id": "TWYK4Sdwl6uP"
      },
      "outputs": [],
      "source": [
        "def get_geometry_features(input_df, path):\n",
        "    input_df_ = input_df.copy()\n",
        "    geo_df = gpd.read_file(path)\n",
        "\n",
        "    geo_df[\"KEY_CODE\"] = geo_df[\"KEY_CODE\"].astype(int)\n",
        "\n",
        "    output_df = pd.merge(input_df_, geo_df.iloc[:, [0,-1]], on=\"KEY_CODE\")\n",
        "\n",
        "    return output_df"
      ]
    },
    {
      "cell_type": "code",
      "execution_count": null,
      "metadata": {
        "id": "l4lFt2Qflyd5"
      },
      "outputs": [],
      "source": [
        "def make_df():\n",
        "    c = 0\n",
        "    for i in range(1995, 2016, 5):\n",
        "        if c == 0:\n",
        "            KC = get_population_mesh4_features_by_years(f\"/content/drive/MyDrive/forest_bears/{str(i)}_6441.txt\")[[\"KEY_CODE\"]]\n",
        "            KC[f\"dummy_{str(i)}\"] = int(0)\n",
        "            KEY_CODE = KC\n",
        "            c += 1\n",
        "        else:\n",
        "            KC = get_population_mesh4_features_by_years(f\"/content/drive/MyDrive/forest_bears/{str(i)}_6441.txt\")[[\"KEY_CODE\"]]\n",
        "            KC[f\"dummy_{str(i)}\"] = int(0)\n",
        "            KEY_CODE = pd.merge(KEY_CODE, KC, how=\"outer\")\n",
        "\n",
        "    output_df = get_geometry_features(KEY_CODE, \"/content/drive/MyDrive/forest_bears/MESH06441_4\")\n",
        "\n",
        "    return output_df.fillna(int(1))"
      ]
    },
    {
      "cell_type": "code",
      "execution_count": null,
      "metadata": {
        "colab": {
          "base_uri": "https://localhost:8080/"
        },
        "id": "4swkOrn7l_t4",
        "outputId": "9832b2f8-b249-4248-c87f-e812bbf4f5eb"
      },
      "outputs": [
        {
          "output_type": "stream",
          "name": "stdout",
          "text": [
            "1995\n",
            "T000752001\n",
            "2000\n",
            "T000386001\n",
            "2005\n",
            "T000387001\n",
            "2010\n",
            "T000609001\n",
            "2015\n",
            "T000847001\n"
          ]
        }
      ],
      "source": [
        "a = make_df()"
      ]
    },
    {
      "cell_type": "code",
      "execution_count": null,
      "metadata": {
        "id": "I8rNmsl-mTLS"
      },
      "outputs": [],
      "source": [
        "def get_coordinates_center(input_df):\n",
        "    input_df_ = input_df.copy()\n",
        "\n",
        "    lng_center_list = []\n",
        "    lat_center_list = []\n",
        "    for n in input_df_[\"geometry\"]:\n",
        "        coordinates_list = list(zip(*n.exterior.coords.xy))[:-1]\n",
        "        lng_list_ = []\n",
        "        lat_list_ = []\n",
        "        for m in coordinates_list:\n",
        "            lng_list_.append(m[0])\n",
        "            lat_list_.append(m[1])\n",
        "        lng_mean = sum(lng_list_) / (len(lng_list_))\n",
        "        lng_center_list.append(lng_mean)\n",
        "        lat_mean = sum(lat_list_) / (len(lat_list_))\n",
        "        lat_center_list.append(lat_mean)\n",
        "\n",
        "    output_df = input_df.copy()\n",
        "    output_df[\"lng_center\"] = lng_center_list\n",
        "    output_df[\"lat_center\"] = lat_center_list\n",
        "    \n",
        "    return output_df"
      ]
    },
    {
      "cell_type": "code",
      "execution_count": null,
      "metadata": {
        "id": "aoM1d-2mmlJW"
      },
      "outputs": [],
      "source": [
        "b = get_coordinates_center(a)"
      ]
    },
    {
      "cell_type": "code",
      "execution_count": null,
      "metadata": {
        "id": "R8fo0_QemEVf"
      },
      "outputs": [],
      "source": [
        "# 任意の点が15角形で表された札幌市内に含まれているか判別し、内側の点だけのDataFrameを出力する関数\n",
        "def get_sapporo_df(input_df):\n",
        "    input_df_ = input_df.copy()\n",
        "\n",
        "    # 札幌を表すpolygon\n",
        "    poly = Polygon( *((43.023028, 140.980742),\n",
        "                      (42.886595, 141.036161),\n",
        "                      (42.821037, 141.090321),\n",
        "                      (42.779450, 141.160855),\n",
        "                      (42.790860, 141.231606),\n",
        "                      (42.872928, 141.286189),\n",
        "                      (42.869773, 141.334252),\n",
        "                      (42.890012, 141.421411),\n",
        "                      (43.021005, 141.506059),\n",
        "                      (43.060363, 141.500538),\n",
        "                      (43.190986, 141.401330),\n",
        "                      (43.161179, 141.224740),\n",
        "                      (43.142071, 141.185851),\n",
        "                      (43.105577, 141.155691),\n",
        "                      (43.124406, 141.071563)) ) \n",
        "    \n",
        "    points = []\n",
        "    for lat, lng in zip(\n",
        "        input_df_[\"lat_center\"].to_numpy(),\n",
        "        input_df_[\"lng_center\"].to_numpy()\n",
        "    ):\n",
        "        points.append((lat, lng))\n",
        "    \n",
        "    sapporo_frag = []\n",
        "    for p in points:\n",
        "        if poly.encloses_point(p) == True:\n",
        "            sapporo_frag.append(1)\n",
        "        else:\n",
        "            sapporo_frag.append(0)\n",
        "    \n",
        "    input_df_[\"sapporo_frag\"] = sapporo_frag\n",
        "    output_df = input_df_[input_df_[\"sapporo_frag\"] == 1][input_df.columns]\n",
        "\n",
        "    return output_df"
      ]
    },
    {
      "cell_type": "code",
      "execution_count": null,
      "metadata": {
        "id": "PhutVp4bmpGj"
      },
      "outputs": [],
      "source": [
        "sapporo_df = get_sapporo_df(b)"
      ]
    },
    {
      "cell_type": "code",
      "execution_count": null,
      "metadata": {
        "id": "tybQawZsmorK",
        "colab": {
          "base_uri": "https://localhost:8080/"
        },
        "outputId": "eb82caf6-0306-40b5-d513-d3984994b684"
      },
      "outputs": [
        {
          "output_type": "execute_result",
          "data": {
            "text/plain": [
              "KEY_CODE         int64\n",
              "dummy_1995     float64\n",
              "dummy_2000     float64\n",
              "dummy_2005     float64\n",
              "dummy_2010     float64\n",
              "dummy_2015     float64\n",
              "geometry      geometry\n",
              "lng_center     float64\n",
              "lat_center     float64\n",
              "dtype: object"
            ]
          },
          "metadata": {},
          "execution_count": 24
        }
      ],
      "source": [
        "sapporo_df.dtypes"
      ]
    },
    {
      "cell_type": "code",
      "source": [
        "sapporo_df.to_csv('sapporo_df.csv', index=False)"
      ],
      "metadata": {
        "id": "X5CpCj8ZT4Fh"
      },
      "execution_count": null,
      "outputs": []
    },
    {
      "cell_type": "code",
      "source": [
        "all_df = pd.read_csv('/content/drive/MyDrive/forest_bears/all_df.csv')"
      ],
      "metadata": {
        "id": "HH3iVEoiWulI"
      },
      "execution_count": null,
      "outputs": []
    },
    {
      "cell_type": "code",
      "source": [
        "all_df.dtypes"
      ],
      "metadata": {
        "colab": {
          "base_uri": "https://localhost:8080/"
        },
        "id": "ODNuH-RVZmrT",
        "outputId": "744d07b3-b56e-4087-bdf2-fc506bbfe444"
      },
      "execution_count": null,
      "outputs": [
        {
          "output_type": "execute_result",
          "data": {
            "text/plain": [
              "No.         float64\n",
              "区            object\n",
              "発生日時         object\n",
              "出没場所         object\n",
              "状況           object\n",
              "lat         float64\n",
              "lng         float64\n",
              "KEY_CODE      int64\n",
              "年度            int64\n",
              "年             int64\n",
              "月             int64\n",
              "日             int64\n",
              "曜日           object\n",
              "時間           object\n",
              "人口            int64\n",
              "平均気温        float64\n",
              "天候（昼）_1      object\n",
              "天候（昼）_2      object\n",
              "天候（夜）_1      object\n",
              "天候（夜）_2      object\n",
              "geometry     object\n",
              "dtype: object"
            ]
          },
          "metadata": {},
          "execution_count": 25
        }
      ]
    },
    {
      "cell_type": "code",
      "source": [
        "len(all_df[\"KEY_CODE\"].unique())"
      ],
      "metadata": {
        "colab": {
          "base_uri": "https://localhost:8080/"
        },
        "id": "WuyyjNF0aOFV",
        "outputId": "9a40d418-e55f-40fd-da12-20825c406c8f"
      },
      "execution_count": null,
      "outputs": [
        {
          "output_type": "execute_result",
          "data": {
            "text/plain": [
              "197"
            ]
          },
          "metadata": {},
          "execution_count": 17
        }
      ]
    },
    {
      "cell_type": "code",
      "source": [
        "all_df[\"KEY_CODE\"].unique()"
      ],
      "metadata": {
        "colab": {
          "base_uri": "https://localhost:8080/"
        },
        "id": "JOJw9lIMaiKM",
        "outputId": "9dac5cfb-2d15-40a6-b781-30a178961183"
      },
      "execution_count": null,
      "outputs": [
        {
          "output_type": "execute_result",
          "data": {
            "text/plain": [
              "array([644132841, 644132822, 644130733, 644132872, 644131123, 644133122,\n",
              "       644142053, 644142913, 644131524, 644122724, 644132423, 644132844,\n",
              "       644142134, 644142254, 644122701, 644131171, 644141054, 644142041,\n",
              "       644131382, 644132162, 644132422, 644132622, 644132943, 644131381,\n",
              "       644131661, 644131203, 644151384, 644142162, 644131124, 644142202,\n",
              "       644140864, 644132654, 644141951, 644132204, 644132582, 644122864,\n",
              "       644132324, 644121512, 644131492, 644142222, 644131593, 644122874,\n",
              "       644132214, 644132431, 644132414, 644132232, 644132762, 644132512,\n",
              "       644151584, 644131594, 644132413, 644132502, 644131592, 644131533,\n",
              "       644132442, 644142163, 644132083, 644132342, 644142174, 644122783,\n",
              "       644132192, 644132061, 644132064, 644131372, 644131484, 644131491,\n",
              "       644123901, 644142063, 644132544, 644131692, 644132401, 644122883,\n",
              "       644132363, 644131612, 644142071, 644132411, 644132542, 644131302,\n",
              "       644151353, 644142074, 644132243, 644132441, 644132843, 644132052,\n",
              "       644132533, 644142083, 644131821, 644142232, 644142801, 644142231,\n",
              "       644131384, 644132522, 644132404, 644131283, 644132203, 644132354,\n",
              "       644131483, 644132421, 644132501, 644132371, 644132571, 644132403,\n",
              "       644132384, 644122582, 644131762, 644132461, 644132302, 644142081,\n",
              "       644132973, 644131651, 644132871, 644132412, 644132291, 644131572,\n",
              "       644132284, 644122981, 644121923, 644132893, 644120274, 644151274,\n",
              "       644132452, 644132671, 644132262, 644132881, 644142141, 644132864,\n",
              "       644151092, 644132874, 644142631, 644142453, 644132472, 644132674,\n",
              "       644133763, 644132574, 644132681, 644132884, 644132474, 644131472,\n",
              "       644132974, 644132972, 644132873, 644142653, 644142272, 644133702,\n",
              "       644133701, 644133113, 644132504, 644130294, 644142452, 644131822,\n",
              "       644122862, 644132321, 644132241, 644151162, 644144501, 644132763,\n",
              "       644132511, 644131581, 644150054, 644142534, 644132521, 644132424,\n",
              "       644132531, 644132443, 644131494, 644142513, 644142523, 644143314,\n",
              "       644142512, 644142093, 644133841, 644133932, 644133001, 644142434,\n",
              "       644142252, 644132652, 644131522, 644141694, 644141111, 644151561,\n",
              "       644131621, 644143922, 644131672, 644130961, 644133233, 644132934,\n",
              "       644132953, 644132951, 644142533, 644141674, 644142323, 644133241,\n",
              "       644121861, 644131374, 644141882, 644142143, 644141961])"
            ]
          },
          "metadata": {},
          "execution_count": 18
        }
      ]
    },
    {
      "cell_type": "code",
      "source": [
        "all_df[all_df[\"KEY_CODE\"] == all_df[\"KEY_CODE\"].unique()]"
      ],
      "metadata": {
        "colab": {
          "base_uri": "https://localhost:8080/",
          "height": 321
        },
        "id": "B2GTABJaajw3",
        "outputId": "cd96e125-cb9b-466b-a907-ea45fe0a9cab"
      },
      "execution_count": null,
      "outputs": [
        {
          "output_type": "error",
          "ename": "ValueError",
          "evalue": "ignored",
          "traceback": [
            "\u001b[0;31m---------------------------------------------------------------------------\u001b[0m",
            "\u001b[0;31mValueError\u001b[0m                                Traceback (most recent call last)",
            "\u001b[0;32m<ipython-input-20-67c7b3362f6a>\u001b[0m in \u001b[0;36m<module>\u001b[0;34m()\u001b[0m\n\u001b[0;32m----> 1\u001b[0;31m \u001b[0mall_df\u001b[0m\u001b[0;34m[\u001b[0m\u001b[0mall_df\u001b[0m\u001b[0;34m[\u001b[0m\u001b[0;34m\"KEY_CODE\"\u001b[0m\u001b[0;34m]\u001b[0m \u001b[0;34m==\u001b[0m \u001b[0mall_df\u001b[0m\u001b[0;34m[\u001b[0m\u001b[0;34m\"KEY_CODE\"\u001b[0m\u001b[0;34m]\u001b[0m\u001b[0;34m.\u001b[0m\u001b[0munique\u001b[0m\u001b[0;34m(\u001b[0m\u001b[0;34m)\u001b[0m\u001b[0;34m]\u001b[0m\u001b[0;34m\u001b[0m\u001b[0;34m\u001b[0m\u001b[0m\n\u001b[0m",
            "\u001b[0;32m/usr/local/lib/python3.7/dist-packages/pandas/core/ops/common.py\u001b[0m in \u001b[0;36mnew_method\u001b[0;34m(self, other)\u001b[0m\n\u001b[1;32m     63\u001b[0m         \u001b[0mother\u001b[0m \u001b[0;34m=\u001b[0m \u001b[0mitem_from_zerodim\u001b[0m\u001b[0;34m(\u001b[0m\u001b[0mother\u001b[0m\u001b[0;34m)\u001b[0m\u001b[0;34m\u001b[0m\u001b[0;34m\u001b[0m\u001b[0m\n\u001b[1;32m     64\u001b[0m \u001b[0;34m\u001b[0m\u001b[0m\n\u001b[0;32m---> 65\u001b[0;31m         \u001b[0;32mreturn\u001b[0m \u001b[0mmethod\u001b[0m\u001b[0;34m(\u001b[0m\u001b[0mself\u001b[0m\u001b[0;34m,\u001b[0m \u001b[0mother\u001b[0m\u001b[0;34m)\u001b[0m\u001b[0;34m\u001b[0m\u001b[0;34m\u001b[0m\u001b[0m\n\u001b[0m\u001b[1;32m     66\u001b[0m \u001b[0;34m\u001b[0m\u001b[0m\n\u001b[1;32m     67\u001b[0m     \u001b[0;32mreturn\u001b[0m \u001b[0mnew_method\u001b[0m\u001b[0;34m\u001b[0m\u001b[0;34m\u001b[0m\u001b[0m\n",
            "\u001b[0;32m/usr/local/lib/python3.7/dist-packages/pandas/core/ops/__init__.py\u001b[0m in \u001b[0;36mwrapper\u001b[0;34m(self, other)\u001b[0m\n\u001b[1;32m    368\u001b[0m         \u001b[0mrvalues\u001b[0m \u001b[0;34m=\u001b[0m \u001b[0mextract_array\u001b[0m\u001b[0;34m(\u001b[0m\u001b[0mother\u001b[0m\u001b[0;34m,\u001b[0m \u001b[0mextract_numpy\u001b[0m\u001b[0;34m=\u001b[0m\u001b[0;32mTrue\u001b[0m\u001b[0;34m)\u001b[0m\u001b[0;34m\u001b[0m\u001b[0;34m\u001b[0m\u001b[0m\n\u001b[1;32m    369\u001b[0m \u001b[0;34m\u001b[0m\u001b[0m\n\u001b[0;32m--> 370\u001b[0;31m         \u001b[0mres_values\u001b[0m \u001b[0;34m=\u001b[0m \u001b[0mcomparison_op\u001b[0m\u001b[0;34m(\u001b[0m\u001b[0mlvalues\u001b[0m\u001b[0;34m,\u001b[0m \u001b[0mrvalues\u001b[0m\u001b[0;34m,\u001b[0m \u001b[0mop\u001b[0m\u001b[0;34m)\u001b[0m\u001b[0;34m\u001b[0m\u001b[0;34m\u001b[0m\u001b[0m\n\u001b[0m\u001b[1;32m    371\u001b[0m \u001b[0;34m\u001b[0m\u001b[0m\n\u001b[1;32m    372\u001b[0m         \u001b[0;32mreturn\u001b[0m \u001b[0mself\u001b[0m\u001b[0;34m.\u001b[0m\u001b[0m_construct_result\u001b[0m\u001b[0;34m(\u001b[0m\u001b[0mres_values\u001b[0m\u001b[0;34m,\u001b[0m \u001b[0mname\u001b[0m\u001b[0;34m=\u001b[0m\u001b[0mres_name\u001b[0m\u001b[0;34m)\u001b[0m\u001b[0;34m\u001b[0m\u001b[0;34m\u001b[0m\u001b[0m\n",
            "\u001b[0;32m/usr/local/lib/python3.7/dist-packages/pandas/core/ops/array_ops.py\u001b[0m in \u001b[0;36mcomparison_op\u001b[0;34m(left, right, op)\u001b[0m\n\u001b[1;32m    223\u001b[0m         \u001b[0;32mif\u001b[0m \u001b[0mlen\u001b[0m\u001b[0;34m(\u001b[0m\u001b[0mlvalues\u001b[0m\u001b[0;34m)\u001b[0m \u001b[0;34m!=\u001b[0m \u001b[0mlen\u001b[0m\u001b[0;34m(\u001b[0m\u001b[0mrvalues\u001b[0m\u001b[0;34m)\u001b[0m\u001b[0;34m:\u001b[0m\u001b[0;34m\u001b[0m\u001b[0;34m\u001b[0m\u001b[0m\n\u001b[1;32m    224\u001b[0m             raise ValueError(\n\u001b[0;32m--> 225\u001b[0;31m                 \u001b[0;34m\"Lengths must match to compare\"\u001b[0m\u001b[0;34m,\u001b[0m \u001b[0mlvalues\u001b[0m\u001b[0;34m.\u001b[0m\u001b[0mshape\u001b[0m\u001b[0;34m,\u001b[0m \u001b[0mrvalues\u001b[0m\u001b[0;34m.\u001b[0m\u001b[0mshape\u001b[0m\u001b[0;34m\u001b[0m\u001b[0;34m\u001b[0m\u001b[0m\n\u001b[0m\u001b[1;32m    226\u001b[0m             )\n\u001b[1;32m    227\u001b[0m \u001b[0;34m\u001b[0m\u001b[0m\n",
            "\u001b[0;31mValueError\u001b[0m: ('Lengths must match to compare', (563,), (197,))"
          ]
        }
      ]
    },
    {
      "cell_type": "code",
      "source": [
        "# KEY_CODE(4次)を含むデータからそのKEY_CODEの人口の特徴量を生成する関数\n",
        "def get_population_mesh4_features(path):\n",
        "    df = pd.read_table(path, sep='\\s+|,', engine='python')\n",
        "\n",
        "    output_df = df.loc[:, (\"KEY_CODE\", \"T000847001\")].drop(0)\n",
        "    output_df[\"KEY_CODE\"] = output_df[\"KEY_CODE\"].astype(int)\n",
        "    output_df.rename(columns={\"T000847001\":\"人口\"}, inplace=True)\n",
        "    output_df[\"人口\"] = output_df[\"人口\"].astype(int)\n",
        "    return output_df"
      ],
      "metadata": {
        "id": "1bllY3rpfyM5"
      },
      "execution_count": null,
      "outputs": []
    },
    {
      "cell_type": "code",
      "source": [
        "get_population_mesh4_features(\"/content/drive/MyDrive/forest_bears/2015_6441.txt\")"
      ],
      "metadata": {
        "id": "4LusKEBegOnN",
        "outputId": "94dc89cb-d685-448f-9a9a-57165356224d",
        "colab": {
          "base_uri": "https://localhost:8080/",
          "height": 423
        }
      },
      "execution_count": null,
      "outputs": [
        {
          "output_type": "execute_result",
          "data": {
            "text/html": [
              "\n",
              "  <div id=\"df-1075b7d3-ed54-4ef0-a9f3-01b8eaa48f51\">\n",
              "    <div class=\"colab-df-container\">\n",
              "      <div>\n",
              "<style scoped>\n",
              "    .dataframe tbody tr th:only-of-type {\n",
              "        vertical-align: middle;\n",
              "    }\n",
              "\n",
              "    .dataframe tbody tr th {\n",
              "        vertical-align: top;\n",
              "    }\n",
              "\n",
              "    .dataframe thead th {\n",
              "        text-align: right;\n",
              "    }\n",
              "</style>\n",
              "<table border=\"1\" class=\"dataframe\">\n",
              "  <thead>\n",
              "    <tr style=\"text-align: right;\">\n",
              "      <th></th>\n",
              "      <th>KEY_CODE</th>\n",
              "      <th>人口</th>\n",
              "    </tr>\n",
              "  </thead>\n",
              "  <tbody>\n",
              "    <tr>\n",
              "      <th>1</th>\n",
              "      <td>644100052</td>\n",
              "      <td>10</td>\n",
              "    </tr>\n",
              "    <tr>\n",
              "      <th>2</th>\n",
              "      <td>644100061</td>\n",
              "      <td>152</td>\n",
              "    </tr>\n",
              "    <tr>\n",
              "      <th>3</th>\n",
              "      <td>644100063</td>\n",
              "      <td>66</td>\n",
              "    </tr>\n",
              "    <tr>\n",
              "      <th>4</th>\n",
              "      <td>644100064</td>\n",
              "      <td>69</td>\n",
              "    </tr>\n",
              "    <tr>\n",
              "      <th>5</th>\n",
              "      <td>644100083</td>\n",
              "      <td>4</td>\n",
              "    </tr>\n",
              "    <tr>\n",
              "      <th>...</th>\n",
              "      <td>...</td>\n",
              "      <td>...</td>\n",
              "    </tr>\n",
              "    <tr>\n",
              "      <th>6876</th>\n",
              "      <td>644177933</td>\n",
              "      <td>7</td>\n",
              "    </tr>\n",
              "    <tr>\n",
              "      <th>6877</th>\n",
              "      <td>644177934</td>\n",
              "      <td>3</td>\n",
              "    </tr>\n",
              "    <tr>\n",
              "      <th>6878</th>\n",
              "      <td>644177943</td>\n",
              "      <td>13</td>\n",
              "    </tr>\n",
              "    <tr>\n",
              "      <th>6879</th>\n",
              "      <td>644177944</td>\n",
              "      <td>3</td>\n",
              "    </tr>\n",
              "    <tr>\n",
              "      <th>6880</th>\n",
              "      <td>644177951</td>\n",
              "      <td>6</td>\n",
              "    </tr>\n",
              "  </tbody>\n",
              "</table>\n",
              "<p>6880 rows × 2 columns</p>\n",
              "</div>\n",
              "      <button class=\"colab-df-convert\" onclick=\"convertToInteractive('df-1075b7d3-ed54-4ef0-a9f3-01b8eaa48f51')\"\n",
              "              title=\"Convert this dataframe to an interactive table.\"\n",
              "              style=\"display:none;\">\n",
              "        \n",
              "  <svg xmlns=\"http://www.w3.org/2000/svg\" height=\"24px\"viewBox=\"0 0 24 24\"\n",
              "       width=\"24px\">\n",
              "    <path d=\"M0 0h24v24H0V0z\" fill=\"none\"/>\n",
              "    <path d=\"M18.56 5.44l.94 2.06.94-2.06 2.06-.94-2.06-.94-.94-2.06-.94 2.06-2.06.94zm-11 1L8.5 8.5l.94-2.06 2.06-.94-2.06-.94L8.5 2.5l-.94 2.06-2.06.94zm10 10l.94 2.06.94-2.06 2.06-.94-2.06-.94-.94-2.06-.94 2.06-2.06.94z\"/><path d=\"M17.41 7.96l-1.37-1.37c-.4-.4-.92-.59-1.43-.59-.52 0-1.04.2-1.43.59L10.3 9.45l-7.72 7.72c-.78.78-.78 2.05 0 2.83L4 21.41c.39.39.9.59 1.41.59.51 0 1.02-.2 1.41-.59l7.78-7.78 2.81-2.81c.8-.78.8-2.07 0-2.86zM5.41 20L4 18.59l7.72-7.72 1.47 1.35L5.41 20z\"/>\n",
              "  </svg>\n",
              "      </button>\n",
              "      \n",
              "  <style>\n",
              "    .colab-df-container {\n",
              "      display:flex;\n",
              "      flex-wrap:wrap;\n",
              "      gap: 12px;\n",
              "    }\n",
              "\n",
              "    .colab-df-convert {\n",
              "      background-color: #E8F0FE;\n",
              "      border: none;\n",
              "      border-radius: 50%;\n",
              "      cursor: pointer;\n",
              "      display: none;\n",
              "      fill: #1967D2;\n",
              "      height: 32px;\n",
              "      padding: 0 0 0 0;\n",
              "      width: 32px;\n",
              "    }\n",
              "\n",
              "    .colab-df-convert:hover {\n",
              "      background-color: #E2EBFA;\n",
              "      box-shadow: 0px 1px 2px rgba(60, 64, 67, 0.3), 0px 1px 3px 1px rgba(60, 64, 67, 0.15);\n",
              "      fill: #174EA6;\n",
              "    }\n",
              "\n",
              "    [theme=dark] .colab-df-convert {\n",
              "      background-color: #3B4455;\n",
              "      fill: #D2E3FC;\n",
              "    }\n",
              "\n",
              "    [theme=dark] .colab-df-convert:hover {\n",
              "      background-color: #434B5C;\n",
              "      box-shadow: 0px 1px 3px 1px rgba(0, 0, 0, 0.15);\n",
              "      filter: drop-shadow(0px 1px 2px rgba(0, 0, 0, 0.3));\n",
              "      fill: #FFFFFF;\n",
              "    }\n",
              "  </style>\n",
              "\n",
              "      <script>\n",
              "        const buttonEl =\n",
              "          document.querySelector('#df-1075b7d3-ed54-4ef0-a9f3-01b8eaa48f51 button.colab-df-convert');\n",
              "        buttonEl.style.display =\n",
              "          google.colab.kernel.accessAllowed ? 'block' : 'none';\n",
              "\n",
              "        async function convertToInteractive(key) {\n",
              "          const element = document.querySelector('#df-1075b7d3-ed54-4ef0-a9f3-01b8eaa48f51');\n",
              "          const dataTable =\n",
              "            await google.colab.kernel.invokeFunction('convertToInteractive',\n",
              "                                                     [key], {});\n",
              "          if (!dataTable) return;\n",
              "\n",
              "          const docLinkHtml = 'Like what you see? Visit the ' +\n",
              "            '<a target=\"_blank\" href=https://colab.research.google.com/notebooks/data_table.ipynb>data table notebook</a>'\n",
              "            + ' to learn more about interactive tables.';\n",
              "          element.innerHTML = '';\n",
              "          dataTable['output_type'] = 'display_data';\n",
              "          await google.colab.output.renderOutput(dataTable, element);\n",
              "          const docLink = document.createElement('div');\n",
              "          docLink.innerHTML = docLinkHtml;\n",
              "          element.appendChild(docLink);\n",
              "        }\n",
              "      </script>\n",
              "    </div>\n",
              "  </div>\n",
              "  "
            ],
            "text/plain": [
              "       KEY_CODE   人口\n",
              "1     644100052   10\n",
              "2     644100061  152\n",
              "3     644100063   66\n",
              "4     644100064   69\n",
              "5     644100083    4\n",
              "...         ...  ...\n",
              "6876  644177933    7\n",
              "6877  644177934    3\n",
              "6878  644177943   13\n",
              "6879  644177944    3\n",
              "6880  644177951    6\n",
              "\n",
              "[6880 rows x 2 columns]"
            ]
          },
          "metadata": {},
          "execution_count": 48
        }
      ]
    },
    {
      "cell_type": "code",
      "source": [
        "def get_unique_mesh_df(input_df, sapporo_df):\n",
        "    input_df_ = input_df.copy()\n",
        "    unique_mesh_df = pd.DataFrame()\n",
        "\n",
        "    unique_mesh_list = input_df_[\"KEY_CODE\"].unique()\n",
        "    num_list = []\n",
        "    for i in unique_mesh_list:\n",
        "        mesh_len = len(input_df_[input_df_[\"KEY_CODE\"] == i])\n",
        "        num_list.append(mesh_len)\n",
        "    unique_mesh_df[\"KEY_CODE\"] = unique_mesh_list\n",
        "    unique_mesh_df[\"出没回数\"] = num_list\n",
        "\n",
        "    output_df = pd.merge(sapporo_df, unique_mesh_df, on=\"KEY_CODE\", how=\"outer\")\n",
        "    output_df = output_df[['dummy_1995', 'dummy_2000', 'dummy_2005', 'dummy_2010', 'dummy_2015', '出没回数']].fillna(0)\n",
        "    #output_df[\"total\"] = output_df[\"dummy_1995\"] + output_df[\"dummy_2000\"] + output_df[\"dummy_2005\"] + output_df[\"dummy_2010\"] + output_df[\"dummy_2015\"]\n",
        "    # ↑多重共線性が生じるからダメ\n",
        "\n",
        "    return output_df"
      ],
      "metadata": {
        "id": "prTtG8t_sBDj"
      },
      "execution_count": null,
      "outputs": []
    },
    {
      "cell_type": "code",
      "source": [
        "def get_unique_mesh_df(input_df, sapporo_df):\n",
        "    input_df_ = input_df.copy()\n",
        "    unique_mesh_df = pd.DataFrame()\n",
        "\n",
        "    unique_mesh_df[\"KEY_CODE\"] = input_df_[\"KEY_CODE\"].unique()\n",
        "    unique_mesh_df[\"出没ダミー\"] = 1\n",
        "\n",
        "    output_df = pd.merge(sapporo_df, unique_mesh_df, on=\"KEY_CODE\", how=\"outer\")\n",
        "    output_df = output_df[['dummy_1995', 'dummy_2000', 'dummy_2005', 'dummy_2010', 'dummy_2015', '出没ダミー']].fillna(0)\n",
        "    #output_df[\"total\"] = output_df[\"dummy_1995\"] + output_df[\"dummy_2000\"] + output_df[\"dummy_2005\"] + output_df[\"dummy_2010\"] + output_df[\"dummy_2015\"]\n",
        "    # ↑多重共線性が生じるからダメ\n",
        "\n",
        "    return output_df"
      ],
      "metadata": {
        "id": "SB6Y6fuuZna3"
      },
      "execution_count": null,
      "outputs": []
    },
    {
      "cell_type": "code",
      "source": [
        "def get_unique_mesh_df(input_df, sapporo_df):\n",
        "    input_df_ = input_df.copy()\n",
        "    output_df = pd.DataFrame()\n",
        "\n",
        "    for i in range(2016, 2022):\n",
        "        year_df = input_df_[input_df_[\"年度\"] == i]\n",
        "        year_df[\"出没ダミー\"] = 1\n",
        "        tmp_df = pd.merge(sapporo_df, year_df, on=\"KEY_CODE\", how=\"outer\")\n",
        "        tmp_df = tmp_df[['dummy_1995', 'dummy_2000', 'dummy_2005', 'dummy_2010', 'dummy_2015', '出没ダミー']].fillna(0)\n",
        "        output_df = pd.concat([output_df, tmp_df])\n",
        "\n",
        "    return output_df"
      ],
      "metadata": {
        "id": "okwg1Uig8-pi"
      },
      "execution_count": null,
      "outputs": []
    },
    {
      "cell_type": "code",
      "source": [
        "df = get_unique_mesh_df(all_df, sapporo_df)"
      ],
      "metadata": {
        "colab": {
          "base_uri": "https://localhost:8080/"
        },
        "id": "EGbc4qHvcOe-",
        "outputId": "4ef08f6d-6683-45e2-e793-912162c614bf"
      },
      "execution_count": null,
      "outputs": [
        {
          "output_type": "stream",
          "name": "stderr",
          "text": [
            "/usr/local/lib/python3.7/dist-packages/ipykernel_launcher.py:7: SettingWithCopyWarning: \n",
            "A value is trying to be set on a copy of a slice from a DataFrame.\n",
            "Try using .loc[row_indexer,col_indexer] = value instead\n",
            "\n",
            "See the caveats in the documentation: https://pandas.pydata.org/pandas-docs/stable/user_guide/indexing.html#returning-a-view-versus-a-copy\n",
            "  import sys\n",
            "/usr/local/lib/python3.7/dist-packages/ipykernel_launcher.py:7: SettingWithCopyWarning: \n",
            "A value is trying to be set on a copy of a slice from a DataFrame.\n",
            "Try using .loc[row_indexer,col_indexer] = value instead\n",
            "\n",
            "See the caveats in the documentation: https://pandas.pydata.org/pandas-docs/stable/user_guide/indexing.html#returning-a-view-versus-a-copy\n",
            "  import sys\n",
            "/usr/local/lib/python3.7/dist-packages/ipykernel_launcher.py:7: SettingWithCopyWarning: \n",
            "A value is trying to be set on a copy of a slice from a DataFrame.\n",
            "Try using .loc[row_indexer,col_indexer] = value instead\n",
            "\n",
            "See the caveats in the documentation: https://pandas.pydata.org/pandas-docs/stable/user_guide/indexing.html#returning-a-view-versus-a-copy\n",
            "  import sys\n",
            "/usr/local/lib/python3.7/dist-packages/ipykernel_launcher.py:7: SettingWithCopyWarning: \n",
            "A value is trying to be set on a copy of a slice from a DataFrame.\n",
            "Try using .loc[row_indexer,col_indexer] = value instead\n",
            "\n",
            "See the caveats in the documentation: https://pandas.pydata.org/pandas-docs/stable/user_guide/indexing.html#returning-a-view-versus-a-copy\n",
            "  import sys\n",
            "/usr/local/lib/python3.7/dist-packages/ipykernel_launcher.py:7: SettingWithCopyWarning: \n",
            "A value is trying to be set on a copy of a slice from a DataFrame.\n",
            "Try using .loc[row_indexer,col_indexer] = value instead\n",
            "\n",
            "See the caveats in the documentation: https://pandas.pydata.org/pandas-docs/stable/user_guide/indexing.html#returning-a-view-versus-a-copy\n",
            "  import sys\n"
          ]
        }
      ]
    },
    {
      "cell_type": "code",
      "source": [
        "df"
      ],
      "metadata": {
        "colab": {
          "base_uri": "https://localhost:8080/",
          "height": 423
        },
        "id": "vpl-dIvi8XXd",
        "outputId": "805aa203-bd3c-4c50-f8d1-64c904aba48e"
      },
      "execution_count": null,
      "outputs": [
        {
          "output_type": "execute_result",
          "data": {
            "text/html": [
              "\n",
              "  <div id=\"df-ba1dbac1-f76a-4f92-b34d-949f7754a687\">\n",
              "    <div class=\"colab-df-container\">\n",
              "      <div>\n",
              "<style scoped>\n",
              "    .dataframe tbody tr th:only-of-type {\n",
              "        vertical-align: middle;\n",
              "    }\n",
              "\n",
              "    .dataframe tbody tr th {\n",
              "        vertical-align: top;\n",
              "    }\n",
              "\n",
              "    .dataframe thead th {\n",
              "        text-align: right;\n",
              "    }\n",
              "</style>\n",
              "<table border=\"1\" class=\"dataframe\">\n",
              "  <thead>\n",
              "    <tr style=\"text-align: right;\">\n",
              "      <th></th>\n",
              "      <th>dummy_1995</th>\n",
              "      <th>dummy_2000</th>\n",
              "      <th>dummy_2005</th>\n",
              "      <th>dummy_2010</th>\n",
              "      <th>dummy_2015</th>\n",
              "      <th>出没ダミー</th>\n",
              "    </tr>\n",
              "  </thead>\n",
              "  <tbody>\n",
              "    <tr>\n",
              "      <th>0</th>\n",
              "      <td>0.0</td>\n",
              "      <td>1.0</td>\n",
              "      <td>1.0</td>\n",
              "      <td>1.0</td>\n",
              "      <td>1.0</td>\n",
              "      <td>NaN</td>\n",
              "    </tr>\n",
              "    <tr>\n",
              "      <th>1</th>\n",
              "      <td>0.0</td>\n",
              "      <td>0.0</td>\n",
              "      <td>0.0</td>\n",
              "      <td>0.0</td>\n",
              "      <td>0.0</td>\n",
              "      <td>NaN</td>\n",
              "    </tr>\n",
              "    <tr>\n",
              "      <th>2</th>\n",
              "      <td>0.0</td>\n",
              "      <td>1.0</td>\n",
              "      <td>1.0</td>\n",
              "      <td>1.0</td>\n",
              "      <td>1.0</td>\n",
              "      <td>NaN</td>\n",
              "    </tr>\n",
              "    <tr>\n",
              "      <th>3</th>\n",
              "      <td>0.0</td>\n",
              "      <td>0.0</td>\n",
              "      <td>0.0</td>\n",
              "      <td>1.0</td>\n",
              "      <td>1.0</td>\n",
              "      <td>1.0</td>\n",
              "    </tr>\n",
              "    <tr>\n",
              "      <th>4</th>\n",
              "      <td>0.0</td>\n",
              "      <td>1.0</td>\n",
              "      <td>0.0</td>\n",
              "      <td>1.0</td>\n",
              "      <td>1.0</td>\n",
              "      <td>NaN</td>\n",
              "    </tr>\n",
              "    <tr>\n",
              "      <th>...</th>\n",
              "      <td>...</td>\n",
              "      <td>...</td>\n",
              "      <td>...</td>\n",
              "      <td>...</td>\n",
              "      <td>...</td>\n",
              "      <td>...</td>\n",
              "    </tr>\n",
              "    <tr>\n",
              "      <th>1810</th>\n",
              "      <td>1.0</td>\n",
              "      <td>1.0</td>\n",
              "      <td>1.0</td>\n",
              "      <td>1.0</td>\n",
              "      <td>0.0</td>\n",
              "      <td>NaN</td>\n",
              "    </tr>\n",
              "    <tr>\n",
              "      <th>1811</th>\n",
              "      <td>1.0</td>\n",
              "      <td>1.0</td>\n",
              "      <td>1.0</td>\n",
              "      <td>1.0</td>\n",
              "      <td>0.0</td>\n",
              "      <td>NaN</td>\n",
              "    </tr>\n",
              "    <tr>\n",
              "      <th>1812</th>\n",
              "      <td>1.0</td>\n",
              "      <td>1.0</td>\n",
              "      <td>1.0</td>\n",
              "      <td>1.0</td>\n",
              "      <td>0.0</td>\n",
              "      <td>NaN</td>\n",
              "    </tr>\n",
              "    <tr>\n",
              "      <th>1813</th>\n",
              "      <td>1.0</td>\n",
              "      <td>1.0</td>\n",
              "      <td>1.0</td>\n",
              "      <td>1.0</td>\n",
              "      <td>0.0</td>\n",
              "      <td>NaN</td>\n",
              "    </tr>\n",
              "    <tr>\n",
              "      <th>1814</th>\n",
              "      <td>1.0</td>\n",
              "      <td>1.0</td>\n",
              "      <td>1.0</td>\n",
              "      <td>1.0</td>\n",
              "      <td>0.0</td>\n",
              "      <td>NaN</td>\n",
              "    </tr>\n",
              "  </tbody>\n",
              "</table>\n",
              "<p>11226 rows × 6 columns</p>\n",
              "</div>\n",
              "      <button class=\"colab-df-convert\" onclick=\"convertToInteractive('df-ba1dbac1-f76a-4f92-b34d-949f7754a687')\"\n",
              "              title=\"Convert this dataframe to an interactive table.\"\n",
              "              style=\"display:none;\">\n",
              "        \n",
              "  <svg xmlns=\"http://www.w3.org/2000/svg\" height=\"24px\"viewBox=\"0 0 24 24\"\n",
              "       width=\"24px\">\n",
              "    <path d=\"M0 0h24v24H0V0z\" fill=\"none\"/>\n",
              "    <path d=\"M18.56 5.44l.94 2.06.94-2.06 2.06-.94-2.06-.94-.94-2.06-.94 2.06-2.06.94zm-11 1L8.5 8.5l.94-2.06 2.06-.94-2.06-.94L8.5 2.5l-.94 2.06-2.06.94zm10 10l.94 2.06.94-2.06 2.06-.94-2.06-.94-.94-2.06-.94 2.06-2.06.94z\"/><path d=\"M17.41 7.96l-1.37-1.37c-.4-.4-.92-.59-1.43-.59-.52 0-1.04.2-1.43.59L10.3 9.45l-7.72 7.72c-.78.78-.78 2.05 0 2.83L4 21.41c.39.39.9.59 1.41.59.51 0 1.02-.2 1.41-.59l7.78-7.78 2.81-2.81c.8-.78.8-2.07 0-2.86zM5.41 20L4 18.59l7.72-7.72 1.47 1.35L5.41 20z\"/>\n",
              "  </svg>\n",
              "      </button>\n",
              "      \n",
              "  <style>\n",
              "    .colab-df-container {\n",
              "      display:flex;\n",
              "      flex-wrap:wrap;\n",
              "      gap: 12px;\n",
              "    }\n",
              "\n",
              "    .colab-df-convert {\n",
              "      background-color: #E8F0FE;\n",
              "      border: none;\n",
              "      border-radius: 50%;\n",
              "      cursor: pointer;\n",
              "      display: none;\n",
              "      fill: #1967D2;\n",
              "      height: 32px;\n",
              "      padding: 0 0 0 0;\n",
              "      width: 32px;\n",
              "    }\n",
              "\n",
              "    .colab-df-convert:hover {\n",
              "      background-color: #E2EBFA;\n",
              "      box-shadow: 0px 1px 2px rgba(60, 64, 67, 0.3), 0px 1px 3px 1px rgba(60, 64, 67, 0.15);\n",
              "      fill: #174EA6;\n",
              "    }\n",
              "\n",
              "    [theme=dark] .colab-df-convert {\n",
              "      background-color: #3B4455;\n",
              "      fill: #D2E3FC;\n",
              "    }\n",
              "\n",
              "    [theme=dark] .colab-df-convert:hover {\n",
              "      background-color: #434B5C;\n",
              "      box-shadow: 0px 1px 3px 1px rgba(0, 0, 0, 0.15);\n",
              "      filter: drop-shadow(0px 1px 2px rgba(0, 0, 0, 0.3));\n",
              "      fill: #FFFFFF;\n",
              "    }\n",
              "  </style>\n",
              "\n",
              "      <script>\n",
              "        const buttonEl =\n",
              "          document.querySelector('#df-ba1dbac1-f76a-4f92-b34d-949f7754a687 button.colab-df-convert');\n",
              "        buttonEl.style.display =\n",
              "          google.colab.kernel.accessAllowed ? 'block' : 'none';\n",
              "\n",
              "        async function convertToInteractive(key) {\n",
              "          const element = document.querySelector('#df-ba1dbac1-f76a-4f92-b34d-949f7754a687');\n",
              "          const dataTable =\n",
              "            await google.colab.kernel.invokeFunction('convertToInteractive',\n",
              "                                                     [key], {});\n",
              "          if (!dataTable) return;\n",
              "\n",
              "          const docLinkHtml = 'Like what you see? Visit the ' +\n",
              "            '<a target=\"_blank\" href=https://colab.research.google.com/notebooks/data_table.ipynb>data table notebook</a>'\n",
              "            + ' to learn more about interactive tables.';\n",
              "          element.innerHTML = '';\n",
              "          dataTable['output_type'] = 'display_data';\n",
              "          await google.colab.output.renderOutput(dataTable, element);\n",
              "          const docLink = document.createElement('div');\n",
              "          docLink.innerHTML = docLinkHtml;\n",
              "          element.appendChild(docLink);\n",
              "        }\n",
              "      </script>\n",
              "    </div>\n",
              "  </div>\n",
              "  "
            ],
            "text/plain": [
              "      dummy_1995  dummy_2000  dummy_2005  dummy_2010  dummy_2015  出没ダミー\n",
              "0            0.0         1.0         1.0         1.0         1.0    NaN\n",
              "1            0.0         0.0         0.0         0.0         0.0    NaN\n",
              "2            0.0         1.0         1.0         1.0         1.0    NaN\n",
              "3            0.0         0.0         0.0         1.0         1.0    1.0\n",
              "4            0.0         1.0         0.0         1.0         1.0    NaN\n",
              "...          ...         ...         ...         ...         ...    ...\n",
              "1810         1.0         1.0         1.0         1.0         0.0    NaN\n",
              "1811         1.0         1.0         1.0         1.0         0.0    NaN\n",
              "1812         1.0         1.0         1.0         1.0         0.0    NaN\n",
              "1813         1.0         1.0         1.0         1.0         0.0    NaN\n",
              "1814         1.0         1.0         1.0         1.0         0.0    NaN\n",
              "\n",
              "[11226 rows x 6 columns]"
            ]
          },
          "metadata": {},
          "execution_count": 134
        }
      ]
    },
    {
      "cell_type": "code",
      "source": [
        "df"
      ],
      "metadata": {
        "colab": {
          "base_uri": "https://localhost:8080/",
          "height": 423
        },
        "id": "8-_L80EQjRY_",
        "outputId": "980136b9-4077-4a65-8835-b6667b5d872f"
      },
      "execution_count": null,
      "outputs": [
        {
          "output_type": "execute_result",
          "data": {
            "text/html": [
              "\n",
              "  <div id=\"df-4997bbc1-20ac-4512-80f3-8f856d5c36d2\">\n",
              "    <div class=\"colab-df-container\">\n",
              "      <div>\n",
              "<style scoped>\n",
              "    .dataframe tbody tr th:only-of-type {\n",
              "        vertical-align: middle;\n",
              "    }\n",
              "\n",
              "    .dataframe tbody tr th {\n",
              "        vertical-align: top;\n",
              "    }\n",
              "\n",
              "    .dataframe thead th {\n",
              "        text-align: right;\n",
              "    }\n",
              "</style>\n",
              "<table border=\"1\" class=\"dataframe\">\n",
              "  <thead>\n",
              "    <tr style=\"text-align: right;\">\n",
              "      <th></th>\n",
              "      <th>dummy_1995</th>\n",
              "      <th>dummy_2000</th>\n",
              "      <th>dummy_2005</th>\n",
              "      <th>dummy_2010</th>\n",
              "      <th>dummy_2015</th>\n",
              "      <th>出没回数</th>\n",
              "    </tr>\n",
              "  </thead>\n",
              "  <tbody>\n",
              "    <tr>\n",
              "      <th>0</th>\n",
              "      <td>0.0</td>\n",
              "      <td>1.0</td>\n",
              "      <td>1.0</td>\n",
              "      <td>1.0</td>\n",
              "      <td>1.0</td>\n",
              "      <td>0.0</td>\n",
              "    </tr>\n",
              "    <tr>\n",
              "      <th>1</th>\n",
              "      <td>0.0</td>\n",
              "      <td>0.0</td>\n",
              "      <td>0.0</td>\n",
              "      <td>0.0</td>\n",
              "      <td>0.0</td>\n",
              "      <td>1.0</td>\n",
              "    </tr>\n",
              "    <tr>\n",
              "      <th>2</th>\n",
              "      <td>0.0</td>\n",
              "      <td>1.0</td>\n",
              "      <td>1.0</td>\n",
              "      <td>1.0</td>\n",
              "      <td>1.0</td>\n",
              "      <td>0.0</td>\n",
              "    </tr>\n",
              "    <tr>\n",
              "      <th>3</th>\n",
              "      <td>0.0</td>\n",
              "      <td>0.0</td>\n",
              "      <td>0.0</td>\n",
              "      <td>1.0</td>\n",
              "      <td>1.0</td>\n",
              "      <td>1.0</td>\n",
              "    </tr>\n",
              "    <tr>\n",
              "      <th>4</th>\n",
              "      <td>0.0</td>\n",
              "      <td>1.0</td>\n",
              "      <td>0.0</td>\n",
              "      <td>1.0</td>\n",
              "      <td>1.0</td>\n",
              "      <td>0.0</td>\n",
              "    </tr>\n",
              "    <tr>\n",
              "      <th>...</th>\n",
              "      <td>...</td>\n",
              "      <td>...</td>\n",
              "      <td>...</td>\n",
              "      <td>...</td>\n",
              "      <td>...</td>\n",
              "      <td>...</td>\n",
              "    </tr>\n",
              "    <tr>\n",
              "      <th>1867</th>\n",
              "      <td>0.0</td>\n",
              "      <td>0.0</td>\n",
              "      <td>0.0</td>\n",
              "      <td>0.0</td>\n",
              "      <td>0.0</td>\n",
              "      <td>1.0</td>\n",
              "    </tr>\n",
              "    <tr>\n",
              "      <th>1868</th>\n",
              "      <td>0.0</td>\n",
              "      <td>0.0</td>\n",
              "      <td>0.0</td>\n",
              "      <td>0.0</td>\n",
              "      <td>0.0</td>\n",
              "      <td>1.0</td>\n",
              "    </tr>\n",
              "    <tr>\n",
              "      <th>1869</th>\n",
              "      <td>0.0</td>\n",
              "      <td>0.0</td>\n",
              "      <td>0.0</td>\n",
              "      <td>0.0</td>\n",
              "      <td>0.0</td>\n",
              "      <td>1.0</td>\n",
              "    </tr>\n",
              "    <tr>\n",
              "      <th>1870</th>\n",
              "      <td>0.0</td>\n",
              "      <td>0.0</td>\n",
              "      <td>0.0</td>\n",
              "      <td>0.0</td>\n",
              "      <td>0.0</td>\n",
              "      <td>2.0</td>\n",
              "    </tr>\n",
              "    <tr>\n",
              "      <th>1871</th>\n",
              "      <td>0.0</td>\n",
              "      <td>0.0</td>\n",
              "      <td>0.0</td>\n",
              "      <td>0.0</td>\n",
              "      <td>0.0</td>\n",
              "      <td>1.0</td>\n",
              "    </tr>\n",
              "  </tbody>\n",
              "</table>\n",
              "<p>1872 rows × 6 columns</p>\n",
              "</div>\n",
              "      <button class=\"colab-df-convert\" onclick=\"convertToInteractive('df-4997bbc1-20ac-4512-80f3-8f856d5c36d2')\"\n",
              "              title=\"Convert this dataframe to an interactive table.\"\n",
              "              style=\"display:none;\">\n",
              "        \n",
              "  <svg xmlns=\"http://www.w3.org/2000/svg\" height=\"24px\"viewBox=\"0 0 24 24\"\n",
              "       width=\"24px\">\n",
              "    <path d=\"M0 0h24v24H0V0z\" fill=\"none\"/>\n",
              "    <path d=\"M18.56 5.44l.94 2.06.94-2.06 2.06-.94-2.06-.94-.94-2.06-.94 2.06-2.06.94zm-11 1L8.5 8.5l.94-2.06 2.06-.94-2.06-.94L8.5 2.5l-.94 2.06-2.06.94zm10 10l.94 2.06.94-2.06 2.06-.94-2.06-.94-.94-2.06-.94 2.06-2.06.94z\"/><path d=\"M17.41 7.96l-1.37-1.37c-.4-.4-.92-.59-1.43-.59-.52 0-1.04.2-1.43.59L10.3 9.45l-7.72 7.72c-.78.78-.78 2.05 0 2.83L4 21.41c.39.39.9.59 1.41.59.51 0 1.02-.2 1.41-.59l7.78-7.78 2.81-2.81c.8-.78.8-2.07 0-2.86zM5.41 20L4 18.59l7.72-7.72 1.47 1.35L5.41 20z\"/>\n",
              "  </svg>\n",
              "      </button>\n",
              "      \n",
              "  <style>\n",
              "    .colab-df-container {\n",
              "      display:flex;\n",
              "      flex-wrap:wrap;\n",
              "      gap: 12px;\n",
              "    }\n",
              "\n",
              "    .colab-df-convert {\n",
              "      background-color: #E8F0FE;\n",
              "      border: none;\n",
              "      border-radius: 50%;\n",
              "      cursor: pointer;\n",
              "      display: none;\n",
              "      fill: #1967D2;\n",
              "      height: 32px;\n",
              "      padding: 0 0 0 0;\n",
              "      width: 32px;\n",
              "    }\n",
              "\n",
              "    .colab-df-convert:hover {\n",
              "      background-color: #E2EBFA;\n",
              "      box-shadow: 0px 1px 2px rgba(60, 64, 67, 0.3), 0px 1px 3px 1px rgba(60, 64, 67, 0.15);\n",
              "      fill: #174EA6;\n",
              "    }\n",
              "\n",
              "    [theme=dark] .colab-df-convert {\n",
              "      background-color: #3B4455;\n",
              "      fill: #D2E3FC;\n",
              "    }\n",
              "\n",
              "    [theme=dark] .colab-df-convert:hover {\n",
              "      background-color: #434B5C;\n",
              "      box-shadow: 0px 1px 3px 1px rgba(0, 0, 0, 0.15);\n",
              "      filter: drop-shadow(0px 1px 2px rgba(0, 0, 0, 0.3));\n",
              "      fill: #FFFFFF;\n",
              "    }\n",
              "  </style>\n",
              "\n",
              "      <script>\n",
              "        const buttonEl =\n",
              "          document.querySelector('#df-4997bbc1-20ac-4512-80f3-8f856d5c36d2 button.colab-df-convert');\n",
              "        buttonEl.style.display =\n",
              "          google.colab.kernel.accessAllowed ? 'block' : 'none';\n",
              "\n",
              "        async function convertToInteractive(key) {\n",
              "          const element = document.querySelector('#df-4997bbc1-20ac-4512-80f3-8f856d5c36d2');\n",
              "          const dataTable =\n",
              "            await google.colab.kernel.invokeFunction('convertToInteractive',\n",
              "                                                     [key], {});\n",
              "          if (!dataTable) return;\n",
              "\n",
              "          const docLinkHtml = 'Like what you see? Visit the ' +\n",
              "            '<a target=\"_blank\" href=https://colab.research.google.com/notebooks/data_table.ipynb>data table notebook</a>'\n",
              "            + ' to learn more about interactive tables.';\n",
              "          element.innerHTML = '';\n",
              "          dataTable['output_type'] = 'display_data';\n",
              "          await google.colab.output.renderOutput(dataTable, element);\n",
              "          const docLink = document.createElement('div');\n",
              "          docLink.innerHTML = docLinkHtml;\n",
              "          element.appendChild(docLink);\n",
              "        }\n",
              "      </script>\n",
              "    </div>\n",
              "  </div>\n",
              "  "
            ],
            "text/plain": [
              "      dummy_1995  dummy_2000  dummy_2005  dummy_2010  dummy_2015  出没回数\n",
              "0            0.0         1.0         1.0         1.0         1.0   0.0\n",
              "1            0.0         0.0         0.0         0.0         0.0   1.0\n",
              "2            0.0         1.0         1.0         1.0         1.0   0.0\n",
              "3            0.0         0.0         0.0         1.0         1.0   1.0\n",
              "4            0.0         1.0         0.0         1.0         1.0   0.0\n",
              "...          ...         ...         ...         ...         ...   ...\n",
              "1867         0.0         0.0         0.0         0.0         0.0   1.0\n",
              "1868         0.0         0.0         0.0         0.0         0.0   1.0\n",
              "1869         0.0         0.0         0.0         0.0         0.0   1.0\n",
              "1870         0.0         0.0         0.0         0.0         0.0   2.0\n",
              "1871         0.0         0.0         0.0         0.0         0.0   1.0\n",
              "\n",
              "[1872 rows x 6 columns]"
            ]
          },
          "metadata": {},
          "execution_count": 99
        }
      ]
    },
    {
      "cell_type": "code",
      "source": [
        "statsmodels.api"
      ],
      "metadata": {
        "id": "tODJtzahHV8I"
      },
      "execution_count": null,
      "outputs": []
    },
    {
      "cell_type": "code",
      "source": [
        "import statsmodels as sm\n",
        "\n",
        "df_X = df.drop('出没ダミー', axis=1)\n",
        "df_y = df['出没ダミー']\n",
        "\n",
        "df_X = sm.add_constant(df_X)\n",
        "\n",
        "model = sm.OLS(df_y, df_X)\n",
        "result = model.fit()\n",
        "print(result.summary())"
      ],
      "metadata": {
        "colab": {
          "base_uri": "https://localhost:8080/"
        },
        "id": "-vbpHFPW8eeO",
        "outputId": "cf8f9116-476c-4198-b20c-3eccf7d1694c"
      },
      "execution_count": null,
      "outputs": [
        {
          "output_type": "stream",
          "name": "stdout",
          "text": [
            "                            OLS Regression Results                            \n",
            "==============================================================================\n",
            "Dep. Variable:                  出没ダミー   R-squared:                       0.003\n",
            "Model:                            OLS   Adj. R-squared:                  0.002\n",
            "Method:                 Least Squares   F-statistic:                     6.466\n",
            "Date:                Mon, 10 Jan 2022   Prob (F-statistic):           5.21e-06\n",
            "Time:                        08:15:28   Log-Likelihood:                 1174.0\n",
            "No. Observations:               11226   AIC:                            -2336.\n",
            "Df Residuals:                   11220   BIC:                            -2292.\n",
            "Df Model:                           5                                         \n",
            "Covariance Type:            nonrobust                                         \n",
            "==============================================================================\n",
            "                 coef    std err          t      P>|t|      [0.025      0.975]\n",
            "------------------------------------------------------------------------------\n",
            "const          0.0505      0.002     22.087      0.000       0.046       0.055\n",
            "dummy_1995     0.0555      0.013      4.157      0.000       0.029       0.082\n",
            "dummy_2000    -0.0496      0.014     -3.623      0.000      -0.076      -0.023\n",
            "dummy_2005    -0.0244      0.011     -2.160      0.031      -0.047      -0.002\n",
            "dummy_2010     0.0308      0.013      2.459      0.014       0.006       0.055\n",
            "dummy_2015    -0.0343      0.011     -3.059      0.002      -0.056      -0.012\n",
            "==============================================================================\n",
            "Omnibus:                     9126.127   Durbin-Watson:                   0.728\n",
            "Prob(Omnibus):                  0.000   Jarque-Bera (JB):           135492.207\n",
            "Skew:                           4.105   Prob(JB):                         0.00\n",
            "Kurtosis:                      17.909   Cond. No.                         9.51\n",
            "==============================================================================\n",
            "\n",
            "Warnings:\n",
            "[1] Standard Errors assume that the covariance matrix of the errors is correctly specified.\n"
          ]
        }
      ]
    },
    {
      "cell_type": "code",
      "source": [
        "import statsmodels.api as sm\n",
        "\n",
        "df_X = df.drop('出没回数', axis=1)\n",
        "df_y = df['出没回数']\n",
        "\n",
        "df_X = sm.add_constant(df_X)\n",
        "\n",
        "model = sm.OLS(df_y, df_X)\n",
        "result = model.fit()\n",
        "print(result.summary())"
      ],
      "metadata": {
        "colab": {
          "base_uri": "https://localhost:8080/"
        },
        "id": "jMroXgorcRwN",
        "outputId": "adf915df-2b38-4b35-e9dc-a9f296164ffa"
      },
      "execution_count": null,
      "outputs": [
        {
          "output_type": "stream",
          "name": "stdout",
          "text": [
            "                            OLS Regression Results                            \n",
            "==============================================================================\n",
            "Dep. Variable:                   出没回数   R-squared:                       0.002\n",
            "Model:                            OLS   Adj. R-squared:                 -0.001\n",
            "Method:                 Least Squares   F-statistic:                    0.7430\n",
            "Date:                Mon, 10 Jan 2022   Prob (F-statistic):              0.591\n",
            "Time:                        06:35:39   Log-Likelihood:                -3579.1\n",
            "No. Observations:                1872   AIC:                             7170.\n",
            "Df Residuals:                    1866   BIC:                             7203.\n",
            "Df Model:                           5                                         \n",
            "Covariance Type:            nonrobust                                         \n",
            "==============================================================================\n",
            "                 coef    std err          t      P>|t|      [0.025      0.975]\n",
            "------------------------------------------------------------------------------\n",
            "const          0.3018      0.042      7.182      0.000       0.219       0.384\n",
            "dummy_1995     0.3637      0.251      1.449      0.147      -0.129       0.856\n",
            "dummy_2000    -0.3192      0.257     -1.242      0.214      -0.823       0.185\n",
            "dummy_2005    -0.1492      0.209     -0.715      0.475      -0.559       0.260\n",
            "dummy_2010     0.1902      0.232      0.820      0.412      -0.265       0.645\n",
            "dummy_2015    -0.2095      0.208     -1.010      0.313      -0.616       0.198\n",
            "==============================================================================\n",
            "Omnibus:                     3254.621   Durbin-Watson:                   1.214\n",
            "Prob(Omnibus):                  0.000   Jarque-Bera (JB):          2638493.556\n",
            "Skew:                          11.924   Prob(JB):                         0.00\n",
            "Kurtosis:                     185.368   Cond. No.                         9.69\n",
            "==============================================================================\n",
            "\n",
            "Warnings:\n",
            "[1] Standard Errors assume that the covariance matrix of the errors is correctly specified.\n"
          ]
        }
      ]
    },
    {
      "cell_type": "code",
      "source": [
        ""
      ],
      "metadata": {
        "id": "1LLkuC_ed9lv"
      },
      "execution_count": null,
      "outputs": []
    }
  ],
  "metadata": {
    "colab": {
      "name": "Untitled180.ipynb",
      "provenance": [],
      "mount_file_id": "1bH1QPjQAFOX66b1jGc_bjbMRAL9s4dXv",
      "authorship_tag": "ABX9TyMJFis47O1iyfoFVq2Flbsa",
      "include_colab_link": true
    },
    "kernelspec": {
      "display_name": "Python 3",
      "name": "python3"
    },
    "language_info": {
      "name": "python"
    }
  },
  "nbformat": 4,
  "nbformat_minor": 0
}